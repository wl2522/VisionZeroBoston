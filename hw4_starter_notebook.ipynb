{
 "cells": [
  {
   "cell_type": "markdown",
   "metadata": {},
   "source": [
    "# Homework 4: Modeling Text Data\n",
    "\n",
    "### Team Member 1:\n",
    "* UNI:  WL2522\n",
    "* Name: Wilson Lui\n",
    "\n",
    "### Team Member 2 [optional]:\n",
    "* UNI:  \n",
    "* Name:\n"
   ]
  },
  {
   "cell_type": "markdown",
   "metadata": {},
   "source": [
    "You can find the data here: https://data.boston.gov/dataset/vision-zero-entry"
   ]
  },
  {
   "cell_type": "markdown",
   "metadata": {},
   "source": [
    "# Task1 - Data Cleaning  [10 points]"
   ]
  },
  {
   "cell_type": "markdown",
   "metadata": {},
   "source": [
    "Load the data, visualize the class distribution. Clean up the target labels. Some categories have been arbitrarily split and need to be consolidated. "
   ]
  },
  {
   "cell_type": "markdown",
   "metadata": {},
   "source": [
    "Having removed the embedded image tags from the categories, the following categories are consolidated due to them having the same meaning with different wordings:\n",
    "\n",
    "\n",
    "1) \"bike facilities don't exist or need improvement\" / \"there are no bike facilities or they need maintenance\"\n",
    "\n",
    "2) \"sidewalks/ramps don't exist or need improvement\" / \"there are no sidewalks or they need maintenance\"\n",
    "\n",
    "3) \"the wait for the \"Walk\" signal is too long\" / \"people have to wait too long for the \"Walk\" signal\"\n",
    "\n",
    "4) \"the roadway surface needs improvement\" / \"the roadway surface needs maintenance\"\n",
    "\n",
    "5) \"it’s hard to see / low visibility\" / \"it’s hard for people to see each other\"\n",
    "\n",
    "The following categories are very similar but not quite the same, and thus were not combined during this preprocessing step:\n",
    "\n",
    "\n",
    "\"people don't yield while going straight\" / \"people don't yield while turning\" /  \"people run red lights / stop signs\"\n",
    "\n",
    "\n",
    "Whenever categories are consolidated, I merge the category with fewer data points into the one with more data points.\n"
   ]
  },
  {
   "cell_type": "code",
   "execution_count": 85,
   "metadata": {
    "ExecuteTime": {
     "end_time": "2017-04-13T18:56:28.280441",
     "start_time": "2017-04-13T18:56:28.202436"
    },
    "collapsed": false
   },
   "outputs": [],
   "source": [
    "import matplotlib.pyplot as plt\n",
    "import pandas as pd\n",
    "import numpy as np\n",
    "from collections import Counter\n",
    "\n",
    "data = pd.read_csv('Vision_Zero_Entry.csv')\n",
    "\n",
    "#target = data['REQUESTTYPE']\n",
    "#comments = data['COMMENTS']\n"
   ]
  },
  {
   "cell_type": "code",
   "execution_count": 86,
   "metadata": {
    "ExecuteTime": {
     "end_time": "2017-04-13T18:56:28.321443",
     "start_time": "2017-04-13T18:56:28.283441"
    },
    "collapsed": false
   },
   "outputs": [
    {
     "name": "stdout",
     "output_type": "stream",
     "text": [
      "28\n",
      "\" src=\"images/01 - Not enough time to cross.png\"></span>&nbsp;there's not enough time to cross the street\n",
      "\" src=\"images/02 - Wait is too long.png\"></span>&nbsp;the wait for the \"Walk\" signal is too long\n",
      "\" src=\"images/06 - Speeding.png\"></span>&nbsp;people speed\n",
      "\" src=\"images/10 - Hard to see.png\"></span>&nbsp;it’s hard to see / low visibility\n",
      "\" src=\"images/11 - Sidewalk issue.png\"></span>&nbsp;sidewalks/ramps don't exist or need improvement\n",
      "\" src=\"images/12 - Bike facility issue.png\"></span>&nbsp;the roadway surface needs improvement\n",
      "\" src=\"images/14 - Other issue.png\"></span>&nbsp;of something that is not listed here\n",
      "bike facilities don't exist or need improvement\n",
      "it's too far / too many lanes to cross\n",
      "it’s hard for people to see each other\n",
      "it’s hard to see / low visibility\n",
      "of something that is not listed here\n",
      "people are not given enough time to cross the street\n",
      "people cross away from the crosswalks\n",
      "people don't yield while going straight\n",
      "people don't yield while turning\n",
      "people double park their vehicles\n",
      "people have to cross too many lanes / too far\n",
      "people have to wait too long for the \"Walk\" signal\n",
      "people run red lights / stop signs\n",
      "people speed\n",
      "sidewalks/ramps don't exist or need improvement\n",
      "the roadway surface needs improvement\n",
      "the roadway surface needs maintenance\n",
      "the wait for the \"Walk\" signal is too long\n",
      "there are no bike facilities or they need maintenance\n",
      "there are no sidewalks or they need maintenance\n",
      "there's not enough time to cross the street\n",
      "[\"bike facilities don't exist or need improvement\"\n",
      " 'of something that is not listed here'\n",
      " \"people don't yield while going straight\"\n",
      " 'it’s hard to see / low visibility' \"people don't yield while turning\"\n",
      " 'people double park their vehicles'\n",
      " 'the wait for the \"Walk\" signal is too long'\n",
      " \"sidewalks/ramps don't exist or need improvement\" 'people speed'\n",
      " 'people cross away from the crosswalks'\n",
      " \"there's not enough time to cross the street\"\n",
      " \"it's too far / too many lanes to cross\"\n",
      " 'people run red lights / stop signs'\n",
      " 'the roadway surface needs improvement'\n",
      " 'there are no bike facilities or they need maintenance'\n",
      " 'the roadway surface needs maintenance'\n",
      " 'people have to cross too many lanes / too far'\n",
      " 'there are no sidewalks or they need maintenance'\n",
      " 'people have to wait too long for the \"Walk\" signal'\n",
      " 'it’s hard for people to see each other'\n",
      " 'people are not given enough time to cross the street']\n",
      "21\n"
     ]
    }
   ],
   "source": [
    "#Create a list of categories\n",
    "#Consolidate the categories that have embedded images tags into corresponding categories\n",
    "\n",
    "\n",
    "print(len(data['REQUESTTYPE'].unique()))\n",
    "categories = data['REQUESTTYPE'].unique()\n",
    "categories = categories.tolist()\n",
    "categories.sort()\n",
    "\n",
    "for a in range(len(categories)): print(categories[a])\n",
    "    \n",
    "data['REQUESTTYPE'].replace(to_replace=categories[0:7], value=[\n",
    "        \"there's not enough time to cross the street\",\n",
    "    'the wait for the \"Walk\" signal is too long',\n",
    "    'people speed', 'it’s hard to see / low visibility',\n",
    "        \"sidewalks/ramps don't exist or need improvement\", \"the roadway surface needs improvement\",\n",
    "    \"of something that is not listed here\"], inplace=True)\n",
    "\n",
    "print(data['REQUESTTYPE'].unique())\n",
    "print(len(data['REQUESTTYPE'].unique()))\n"
   ]
  },
  {
   "cell_type": "code",
   "execution_count": 87,
   "metadata": {
    "ExecuteTime": {
     "end_time": "2017-04-13T18:56:28.343444",
     "start_time": "2017-04-13T18:56:28.325443"
    },
    "collapsed": false
   },
   "outputs": [
    {
     "name": "stdout",
     "output_type": "stream",
     "text": [
      "[(\"bike facilities don't exist or need improvement\", 1136), (\"it's too far / too many lanes to cross\", 137), ('it’s hard for people to see each other', 29), ('it’s hard to see / low visibility', 434), ('of something that is not listed here', 1433), ('people are not given enough time to cross the street', 12), ('people cross away from the crosswalks', 294), (\"people don't yield while going straight\", 364), (\"people don't yield while turning\", 645), ('people double park their vehicles', 631), ('people have to cross too many lanes / too far', 30), ('people have to wait too long for the \"Walk\" signal', 40), ('people run red lights / stop signs', 792), ('people speed', 1235), (\"sidewalks/ramps don't exist or need improvement\", 330), ('the roadway surface needs improvement', 277), ('the roadway surface needs maintenance', 49), ('the wait for the \"Walk\" signal is too long', 302), ('there are no bike facilities or they need maintenance', 143), ('there are no sidewalks or they need maintenance', 42), (\"there's not enough time to cross the street\", 179)]\n",
      "sidewalks/ramps don't exist or need improvement there are no sidewalks or they need maintenance\n",
      "bike facilities don't exist or need improvement there are no bike facilities or they need maintenance\n",
      "people have to wait too long for the \"Walk\" signal the wait for the \"Walk\" signal is too long\n",
      "the roadway surface needs improvement the roadway surface needs maintenance\n",
      "it’s hard for people to see each other it’s hard to see / low visibility\n"
     ]
    }
   ],
   "source": [
    "#Count how many occurrences of each category occur in the dataset\n",
    "#Create a list with tuples containing each category and its number of occurrences\n",
    "\n",
    "\n",
    "count = Counter(data['REQUESTTYPE'])\n",
    "count = count.items()\n",
    "count = list(count)\n",
    "count.sort()\n",
    "print(count)\n",
    "\n",
    "print(count[14][0], count[19][0])\n",
    "print(count[0][0], count[18][0])\n",
    "print(count[11][0], count[17][0])\n",
    "print(count[15][0], count[16][0])\n",
    "print(count[2][0], count[3][0])\n"
   ]
  },
  {
   "cell_type": "code",
   "execution_count": 88,
   "metadata": {
    "ExecuteTime": {
     "end_time": "2017-04-13T18:56:52.839845",
     "start_time": "2017-04-13T18:56:52.719839"
    },
    "collapsed": false,
    "scrolled": true
   },
   "outputs": [
    {
     "name": "stdout",
     "output_type": "stream",
     "text": [
      "sidewalks/ramps don't exist or need improvement there are no sidewalks or they need maintenance\n",
      "bike facilities don't exist or need improvement there are no bike facilities or they need maintenance\n",
      "people have to wait too long for the \"Walk\" signal the wait for the \"Walk\" signal is too long\n",
      "the roadway surface needs improvement the roadway surface needs maintenance\n",
      "it’s hard for people to see each other it’s hard to see / low visibility\n",
      "Counter({'of something that is not listed here': 1433, \"bike facilities don't exist or need improvement\": 1279, 'people speed': 1235, 'people run red lights / stop signs': 792, \"people don't yield while turning\": 645, 'people double park their vehicles': 631, 'it’s hard to see / low visibility': 463, \"sidewalks/ramps don't exist or need improvement\": 372, \"people don't yield while going straight\": 364, 'the wait for the \"Walk\" signal is too long': 342, 'the roadway surface needs improvement': 326, 'people cross away from the crosswalks': 294, \"there's not enough time to cross the street\": 179, \"it's too far / too many lanes to cross\": 137, 'people have to cross too many lanes / too far': 30, 'people are not given enough time to cross the street': 12})\n"
     ]
    }
   ],
   "source": [
    "#For each category pair, check which category appears less often\n",
    "#Replace that category with the other category\n",
    "\n",
    "\n",
    "#bike facilities don't exist or need improvement / there are no bike facilities or they need maintenance\n",
    "\n",
    "\n",
    "if count[0][1] > count[18][1]: \n",
    "    data['REQUESTTYPE'].replace(to_replace=count[18][0], value=count[0][0], inplace=True)\n",
    "\n",
    "elif count[18][1] > count[0][1]:\n",
    "    data['REQUESTTYPE'].replace(to_replace=count[0][0], value=count[18][0], inplace=True)\n",
    "\n",
    "    \n",
    "#sidewalks/ramps don't exist or need improvement / there are no sidewalks or they need maintenance\n",
    "\n",
    "\n",
    "if count[14][1] > count[19][1]:\n",
    "    data['REQUESTTYPE'].replace(to_replace=count[19][0], value=count[14][0], inplace=True)\n",
    "    \n",
    "elif count[19][1] > count[14][1]:\n",
    "    data['REQUESTTYPE'].replace(to_replace=count[14][0], value=count[19][0], inplace=True)\n",
    "    \n",
    "    \n",
    "#people have to wait too long for the \"Walk\" signal / the wait for the \"Walk\" signal is too long\n",
    "\n",
    "\n",
    "if count[11][1] > count[17][1]:\n",
    "    data['REQUESTTYPE'].replace(to_replace=count[17][0], value=count[11][0], inplace=True)\n",
    "    \n",
    "elif count[17][1] > count[11][1]:\n",
    "    data['REQUESTTYPE'].replace(to_replace=count[11][0], value=count[17][0], inplace=True)\n",
    "    \n",
    "\n",
    "#the roadway surface needs improvement / the roadway surface needs maintenance\n",
    "\n",
    "\n",
    "if count[15][1] > count[16][1]:\n",
    "    data['REQUESTTYPE'].replace(to_replace=count[16][0], value=count[15][0], inplace=True)\n",
    "    \n",
    "elif count[16][1] > count[15][1]:\n",
    "    data['REQUESTTYPE'].replace(to_replace=count[15][0], value=count[16][0], inplace=True)\n",
    "    \n",
    "    \n",
    "#it’s hard to see / low visibility / it’s hard for people to see each other\n",
    "\n",
    "\n",
    "if count[2][1] > count[3][1]:\n",
    "    data['REQUESTTYPE'].replace(to_replace=count[3][0], value=count[2][0], inplace=True)\n",
    "    \n",
    "elif count[3][1] > count[2][1]:\n",
    "    data['REQUESTTYPE'].replace(to_replace=count[2][0], value=count[3][0], inplace=True)\n",
    "\n",
    "\n",
    "print(Counter(data['REQUESTTYPE']))\n"
   ]
  },
  {
   "cell_type": "code",
   "execution_count": null,
   "metadata": {
    "ExecuteTime": {
     "end_time": "2017-04-12T18:35:44.214408",
     "start_time": "2017-04-12T18:35:44.187406"
    },
    "collapsed": false
   },
   "outputs": [],
   "source": [
    "\n",
    "\n",
    "\n"
   ]
  },
  {
   "cell_type": "code",
   "execution_count": 17,
   "metadata": {
    "ExecuteTime": {
     "end_time": "2017-04-12T18:20:44.022920",
     "start_time": "2017-04-12T18:20:44.002919"
    },
    "collapsed": false
   },
   "outputs": [
    {
     "name": "stdout",
     "output_type": "stream",
     "text": [
      "28\n",
      "\" src=\"images/01 - Not enough time to cross.png\"></span>&nbsp;there's not enough time to cross the street\n",
      "\" src=\"images/02 - Wait is too long.png\"></span>&nbsp;the wait for the \"Walk\" signal is too long\n",
      "\" src=\"images/06 - Speeding.png\"></span>&nbsp;people speed\n",
      "\" src=\"images/10 - Hard to see.png\"></span>&nbsp;it’s hard to see / low visibility\n",
      "\" src=\"images/11 - Sidewalk issue.png\"></span>&nbsp;sidewalks/ramps don't exist or need improvement\n",
      "\" src=\"images/12 - Bike facility issue.png\"></span>&nbsp;the roadway surface needs improvement\n",
      "\" src=\"images/14 - Other issue.png\"></span>&nbsp;of something that is not listed here\n",
      "bike facilities don't exist or need improvement\n",
      "it's too far / too many lanes to cross\n",
      "it’s hard for people to see each other\n",
      "it’s hard to see / low visibility\n",
      "of something that is not listed here\n",
      "people are not given enough time to cross the street\n",
      "people cross away from the crosswalks\n",
      "people don't yield while going straight\n",
      "people don't yield while turning\n",
      "people double park their vehicles\n",
      "people have to cross too many lanes / too far\n",
      "people have to wait too long for the \"Walk\" signal\n",
      "people run red lights / stop signs\n",
      "people speed\n",
      "sidewalks/ramps don't exist or need improvement\n",
      "the roadway surface needs improvement\n",
      "the roadway surface needs maintenance\n",
      "the wait for the \"Walk\" signal is too long\n",
      "there are no bike facilities or they need maintenance\n",
      "there are no sidewalks or they need maintenance\n",
      "there's not enough time to cross the street\n"
     ]
    }
   ],
   "source": []
  },
  {
   "cell_type": "code",
   "execution_count": 19,
   "metadata": {
    "ExecuteTime": {
     "end_time": "2017-04-12T18:29:08.141754",
     "start_time": "2017-04-12T18:29:08.119753"
    },
    "collapsed": false
   },
   "outputs": [
    {
     "name": "stdout",
     "output_type": "stream",
     "text": [
      "[\"bike facilities don't exist or need improvement\"\n",
      " 'of something that is not listed here'\n",
      " \"people don't yield while going straight\"\n",
      " 'it’s hard to see / low visibility' \"people don't yield while turning\"\n",
      " 'people double park their vehicles'\n",
      " 'the wait for the \"Walk\" signal is too long'\n",
      " \"sidewalks/ramps don't exist or need improvement\" 'people speed'\n",
      " 'people cross away from the crosswalks'\n",
      " \"there's not enough time to cross the street\"\n",
      " \"it's too far / too many lanes to cross\"\n",
      " 'people run red lights / stop signs'\n",
      " 'the roadway surface needs improvement'\n",
      " 'there are no bike facilities or they need maintenance'\n",
      " 'the roadway surface needs maintenance'\n",
      " 'people have to cross too many lanes / too far'\n",
      " 'there are no sidewalks or they need maintenance'\n",
      " 'people have to wait too long for the \"Walk\" signal'\n",
      " 'it’s hard for people to see each other'\n",
      " 'people are not given enough time to cross the street'\n",
      " '\" src=\"images/10 - Hard to see.png\"></span>&nbsp;it’s hard to see / low visibility'\n",
      " '\" src=\"images/02 - Wait is too long.png\"></span>&nbsp;the wait for the \"Walk\" signal is too long'\n",
      " '\" src=\"images/14 - Other issue.png\"></span>&nbsp;of something that is not listed here'\n",
      " '\" src=\"images/01 - Not enough time to cross.png\"></span>&nbsp;there\\'s not enough time to cross the street'\n",
      " '\" src=\"images/12 - Bike facility issue.png\"></span>&nbsp;the roadway surface needs improvement'\n",
      " '\" src=\"images/11 - Sidewalk issue.png\"></span>&nbsp;sidewalks/ramps don\\'t exist or need improvement'\n",
      " '\" src=\"images/06 - Speeding.png\"></span>&nbsp;people speed']\n"
     ]
    }
   ],
   "source": []
  },
  {
   "cell_type": "markdown",
   "metadata": {},
   "source": [
    "# Task2 - Model 1 [10 points]"
   ]
  },
  {
   "cell_type": "markdown",
   "metadata": {},
   "source": [
    "Run a baseline multi-class classification model using a bag-of-word approach, report macro f1-score (should be above .5) and visualize the confusion matrix. Can you interpret the mistakes made by the model? "
   ]
  },
  {
   "cell_type": "code",
   "execution_count": 2,
   "metadata": {
    "collapsed": true
   },
   "outputs": [],
   "source": [
    "# Add your code for task 2 here. You may use multiple cells. \n",
    "\n"
   ]
  },
  {
   "cell_type": "markdown",
   "metadata": {},
   "source": [
    "# Task3 - Model 2 [30 points]"
   ]
  },
  {
   "cell_type": "markdown",
   "metadata": {},
   "source": [
    "Improve the model using more complex text features, including n-grams, character n-grams and possibly domain-specific features."
   ]
  },
  {
   "cell_type": "code",
   "execution_count": 3,
   "metadata": {
    "collapsed": true
   },
   "outputs": [],
   "source": [
    "# Add your code for task 3 here. You may use multiple cells. \n",
    "\n"
   ]
  },
  {
   "cell_type": "markdown",
   "metadata": {},
   "source": [
    "# Task4 - Visualize Results [10 points]"
   ]
  },
  {
   "cell_type": "markdown",
   "metadata": {},
   "source": [
    "Visualize results of the tuned model (classification results, confusion matrix, important features, example mistakes)."
   ]
  },
  {
   "cell_type": "code",
   "execution_count": 4,
   "metadata": {
    "collapsed": true
   },
   "outputs": [],
   "source": [
    "# Add your code for task 4 here. You may use multiple cells. \n",
    "\n"
   ]
  },
  {
   "cell_type": "markdown",
   "metadata": {},
   "source": [
    "# Task5 - Clustering [10 points]"
   ]
  },
  {
   "cell_type": "markdown",
   "metadata": {},
   "source": [
    "Apply LDA, NMF and K-Means to the whole dataset. Can you find clusters or topics that match well with some of the ground truth labels? Use ARI to compare the methods and visualize topics and clusters."
   ]
  },
  {
   "cell_type": "code",
   "execution_count": 5,
   "metadata": {
    "collapsed": true
   },
   "outputs": [],
   "source": [
    "# Add your code for task 5 here. You may use multiple cells. \n",
    "\n"
   ]
  },
  {
   "cell_type": "markdown",
   "metadata": {},
   "source": [
    "# Task6 - Model 3 [30 points]"
   ]
  },
  {
   "cell_type": "markdown",
   "metadata": {},
   "source": [
    "Improve the class definition for REQUESTTYPE by using the results of the clustering and results of the previous classification model. Re-assign labels using either the results of clustering or using keywords that you found during data exploration. The labels must be semantically meaningful.\n",
    "The data has a large “other” category. Apply the topic modeling and clustering techniques to this subset of the data to find possible splits of this class.\n",
    "Report accuracy using macro average f1 score (should be above .53) \n"
   ]
  },
  {
   "cell_type": "code",
   "execution_count": 6,
   "metadata": {
    "collapsed": true
   },
   "outputs": [],
   "source": [
    "# Add your code for task 6 here. You may use multiple cells. \n",
    "\n"
   ]
  },
  {
   "cell_type": "markdown",
   "metadata": {},
   "source": [
    "# Extra Credit [Up to +20 points]"
   ]
  },
  {
   "cell_type": "markdown",
   "metadata": {},
   "source": [
    "Use a word embedding representation like word2vec for step 3 and or step 6. "
   ]
  },
  {
   "cell_type": "code",
   "execution_count": 7,
   "metadata": {
    "collapsed": true
   },
   "outputs": [],
   "source": [
    "# Add your code for extra credit here. You may use multiple cells. \n",
    "\n"
   ]
  }
 ],
 "metadata": {
  "anaconda-cloud": {},
  "kernelspec": {
   "display_name": "Python 3",
   "language": "python",
   "name": "python3"
  },
  "language_info": {
   "codemirror_mode": {
    "name": "ipython",
    "version": 3
   },
   "file_extension": ".py",
   "mimetype": "text/x-python",
   "name": "python",
   "nbconvert_exporter": "python",
   "pygments_lexer": "ipython3",
   "version": "3.5.2"
  }
 },
 "nbformat": 4,
 "nbformat_minor": 1
}
