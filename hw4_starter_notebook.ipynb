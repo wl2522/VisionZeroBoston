{
 "cells": [
  {
   "cell_type": "markdown",
   "metadata": {},
   "source": [
    "# Homework 4: Modeling Text Data\n",
    "\n",
    "### Team Member 1:\n",
    "* UNI:  WL2522\n",
    "* Name: Wilson Lui\n",
    "\n",
    "### Team Member 2 [optional]:\n",
    "* UNI:  \n",
    "* Name:\n"
   ]
  },
  {
   "cell_type": "markdown",
   "metadata": {},
   "source": [
    "You can find the data here: https://data.boston.gov/dataset/vision-zero-entry"
   ]
  },
  {
   "cell_type": "markdown",
   "metadata": {},
   "source": [
    "# Task1 - Data Cleaning  [10 points]"
   ]
  },
  {
   "cell_type": "markdown",
   "metadata": {},
   "source": [
    "Load the data, visualize the class distribution. Clean up the target labels. Some categories have been arbitrarily split and need to be consolidated. "
   ]
  },
  {
   "cell_type": "code",
   "execution_count": 52,
   "metadata": {
    "ExecuteTime": {
     "end_time": "2017-04-12T18:59:19.407352",
     "start_time": "2017-04-12T18:59:19.342349"
    },
    "collapsed": false
   },
   "outputs": [],
   "source": [
    "import matplotlib.pyplot as plt\n",
    "import pandas as pd\n",
    "import numpy as np\n",
    "\n",
    "data = pd.read_csv('Vision_Zero_Entry.csv')\n",
    "\n",
    "#target = data['REQUESTTYPE']\n",
    "#comments = data['COMMENTS']\n"
   ]
  },
  {
   "cell_type": "code",
   "execution_count": 53,
   "metadata": {
    "ExecuteTime": {
     "end_time": "2017-04-12T18:59:22.945555",
     "start_time": "2017-04-12T18:59:22.914553"
    },
    "collapsed": false
   },
   "outputs": [
    {
     "name": "stdout",
     "output_type": "stream",
     "text": [
      "28\n",
      "\" src=\"images/01 - Not enough time to cross.png\"></span>&nbsp;there's not enough time to cross the street\n",
      "\" src=\"images/02 - Wait is too long.png\"></span>&nbsp;the wait for the \"Walk\" signal is too long\n",
      "\" src=\"images/06 - Speeding.png\"></span>&nbsp;people speed\n",
      "\" src=\"images/10 - Hard to see.png\"></span>&nbsp;it’s hard to see / low visibility\n",
      "\" src=\"images/11 - Sidewalk issue.png\"></span>&nbsp;sidewalks/ramps don't exist or need improvement\n",
      "\" src=\"images/12 - Bike facility issue.png\"></span>&nbsp;the roadway surface needs improvement\n",
      "\" src=\"images/14 - Other issue.png\"></span>&nbsp;of something that is not listed here\n",
      "bike facilities don't exist or need improvement\n",
      "it's too far / too many lanes to cross\n",
      "it’s hard for people to see each other\n",
      "it’s hard to see / low visibility\n",
      "of something that is not listed here\n",
      "people are not given enough time to cross the street\n",
      "people cross away from the crosswalks\n",
      "people don't yield while going straight\n",
      "people don't yield while turning\n",
      "people double park their vehicles\n",
      "people have to cross too many lanes / too far\n",
      "people have to wait too long for the \"Walk\" signal\n",
      "people run red lights / stop signs\n",
      "people speed\n",
      "sidewalks/ramps don't exist or need improvement\n",
      "the roadway surface needs improvement\n",
      "the roadway surface needs maintenance\n",
      "the wait for the \"Walk\" signal is too long\n",
      "there are no bike facilities or they need maintenance\n",
      "there are no sidewalks or they need maintenance\n",
      "there's not enough time to cross the street\n",
      "[\"bike facilities don't exist or need improvement\"\n",
      " 'of something that is not listed here'\n",
      " \"people don't yield while going straight\"\n",
      " 'it’s hard to see / low visibility' \"people don't yield while turning\"\n",
      " 'people double park their vehicles'\n",
      " 'the wait for the \"Walk\" signal is too long'\n",
      " \"sidewalks/ramps don't exist or need improvement\" 'people speed'\n",
      " 'people cross away from the crosswalks'\n",
      " \"there's not enough time to cross the street\"\n",
      " \"it's too far / too many lanes to cross\"\n",
      " 'people run red lights / stop signs'\n",
      " 'the roadway surface needs improvement'\n",
      " 'there are no bike facilities or they need maintenance'\n",
      " 'the roadway surface needs maintenance'\n",
      " 'people have to cross too many lanes / too far'\n",
      " 'there are no sidewalks or they need maintenance'\n",
      " 'people have to wait too long for the \"Walk\" signal'\n",
      " 'it’s hard for people to see each other'\n",
      " 'people are not given enough time to cross the street']\n",
      "21\n"
     ]
    }
   ],
   "source": [
    "#Create a list of categories\n",
    "#Consolidate the categories that have embedded images tags\"\n",
    "\n",
    "\n",
    "print(len(data['REQUESTTYPE'].unique()))\n",
    "categories = data['REQUESTTYPE'].unique()\n",
    "categories = categories.tolist()\n",
    "categories.sort()\n",
    "\n",
    "for a in range(len(categories)): print(categories[a])\n",
    "    \n",
    "data['REQUESTTYPE'].replace(to_replace=categories[0:7], value=[\n",
    "        \"there's not enough time to cross the street\",\n",
    "    'the wait for the \"Walk\" signal is too long',\n",
    "    'people speed', 'it’s hard to see / low visibility',\n",
    "        \"sidewalks/ramps don't exist or need improvement\", \"the roadway surface needs improvement\",\n",
    "    \"of something that is not listed here\"], inplace=True)\n",
    "\n",
    "print(data['REQUESTTYPE'].unique())\n",
    "print(len(data['REQUESTTYPE'].unique()))"
   ]
  },
  {
   "cell_type": "code",
   "execution_count": 39,
   "metadata": {
    "ExecuteTime": {
     "end_time": "2017-04-12T18:49:43.387406",
     "start_time": "2017-04-12T18:49:43.362404"
    },
    "collapsed": false,
    "scrolled": true
   },
   "outputs": [
    {
     "name": "stdout",
     "output_type": "stream",
     "text": [
      "['people are not given enough time to cross the street'\n",
      " '\" src=\"images/10 - Hard to see.png\"></span>&nbsp;it’s hard to see / low visibility'\n",
      " '\" src=\"images/02 - Wait is too long.png\"></span>&nbsp;the wait for the \"Walk\" signal is too long'\n",
      " '\" src=\"images/14 - Other issue.png\"></span>&nbsp;of something that is not listed here'\n",
      " '\" src=\"images/12 - Bike facility issue.png\"></span>&nbsp;the roadway surface needs improvement'\n",
      " '\" src=\"images/11 - Sidewalk issue.png\"></span>&nbsp;sidewalks/ramps don\\'t exist or need improvement']\n"
     ]
    }
   ],
   "source": [
    "data['REQUESTTYPE'].replace(to_replace=\n",
    "             \"\"\"\" src=\"images/01 - Not enough time to cross.png\"></span>&nbsp;there's not enough time to cross the street\"\"\",\n",
    "            value=\"there's not enough time to cross the street\", inplace=True)\n",
    "\n",
    "data['REQUESTTYPE'].replace(to_replace=\n",
    "                           \"\"\"\n",
    "                           \" src=\"images/02 - Wait is too long.png\"></span>&nbsp;the wait for the \"Walk\" signal is too long\"\"\",\n",
    "                           value='the wait for the \"Walk\" signal is too long', inplace=True)\n",
    "print(data['REQUESTTYPE'].unique()[-7:-1])\n",
    "#drop = [data['REQUESTTYPE'].unique()[-7:-1], data['REQUESTTYPE'.unique()[-2]],\n",
    "#        data['REQUESTTYPE'].unq)"
   ]
  },
  {
   "cell_type": "code",
   "execution_count": null,
   "metadata": {
    "ExecuteTime": {
     "end_time": "2017-04-12T18:35:44.214408",
     "start_time": "2017-04-12T18:35:44.187406"
    },
    "collapsed": false
   },
   "outputs": [],
   "source": [
    "\n",
    "\n",
    "\n"
   ]
  },
  {
   "cell_type": "code",
   "execution_count": 17,
   "metadata": {
    "ExecuteTime": {
     "end_time": "2017-04-12T18:20:44.022920",
     "start_time": "2017-04-12T18:20:44.002919"
    },
    "collapsed": false
   },
   "outputs": [
    {
     "name": "stdout",
     "output_type": "stream",
     "text": [
      "28\n",
      "\" src=\"images/01 - Not enough time to cross.png\"></span>&nbsp;there's not enough time to cross the street\n",
      "\" src=\"images/02 - Wait is too long.png\"></span>&nbsp;the wait for the \"Walk\" signal is too long\n",
      "\" src=\"images/06 - Speeding.png\"></span>&nbsp;people speed\n",
      "\" src=\"images/10 - Hard to see.png\"></span>&nbsp;it’s hard to see / low visibility\n",
      "\" src=\"images/11 - Sidewalk issue.png\"></span>&nbsp;sidewalks/ramps don't exist or need improvement\n",
      "\" src=\"images/12 - Bike facility issue.png\"></span>&nbsp;the roadway surface needs improvement\n",
      "\" src=\"images/14 - Other issue.png\"></span>&nbsp;of something that is not listed here\n",
      "bike facilities don't exist or need improvement\n",
      "it's too far / too many lanes to cross\n",
      "it’s hard for people to see each other\n",
      "it’s hard to see / low visibility\n",
      "of something that is not listed here\n",
      "people are not given enough time to cross the street\n",
      "people cross away from the crosswalks\n",
      "people don't yield while going straight\n",
      "people don't yield while turning\n",
      "people double park their vehicles\n",
      "people have to cross too many lanes / too far\n",
      "people have to wait too long for the \"Walk\" signal\n",
      "people run red lights / stop signs\n",
      "people speed\n",
      "sidewalks/ramps don't exist or need improvement\n",
      "the roadway surface needs improvement\n",
      "the roadway surface needs maintenance\n",
      "the wait for the \"Walk\" signal is too long\n",
      "there are no bike facilities or they need maintenance\n",
      "there are no sidewalks or they need maintenance\n",
      "there's not enough time to cross the street\n"
     ]
    }
   ],
   "source": []
  },
  {
   "cell_type": "code",
   "execution_count": 19,
   "metadata": {
    "ExecuteTime": {
     "end_time": "2017-04-12T18:29:08.141754",
     "start_time": "2017-04-12T18:29:08.119753"
    },
    "collapsed": false
   },
   "outputs": [
    {
     "name": "stdout",
     "output_type": "stream",
     "text": [
      "[\"bike facilities don't exist or need improvement\"\n",
      " 'of something that is not listed here'\n",
      " \"people don't yield while going straight\"\n",
      " 'it’s hard to see / low visibility' \"people don't yield while turning\"\n",
      " 'people double park their vehicles'\n",
      " 'the wait for the \"Walk\" signal is too long'\n",
      " \"sidewalks/ramps don't exist or need improvement\" 'people speed'\n",
      " 'people cross away from the crosswalks'\n",
      " \"there's not enough time to cross the street\"\n",
      " \"it's too far / too many lanes to cross\"\n",
      " 'people run red lights / stop signs'\n",
      " 'the roadway surface needs improvement'\n",
      " 'there are no bike facilities or they need maintenance'\n",
      " 'the roadway surface needs maintenance'\n",
      " 'people have to cross too many lanes / too far'\n",
      " 'there are no sidewalks or they need maintenance'\n",
      " 'people have to wait too long for the \"Walk\" signal'\n",
      " 'it’s hard for people to see each other'\n",
      " 'people are not given enough time to cross the street'\n",
      " '\" src=\"images/10 - Hard to see.png\"></span>&nbsp;it’s hard to see / low visibility'\n",
      " '\" src=\"images/02 - Wait is too long.png\"></span>&nbsp;the wait for the \"Walk\" signal is too long'\n",
      " '\" src=\"images/14 - Other issue.png\"></span>&nbsp;of something that is not listed here'\n",
      " '\" src=\"images/01 - Not enough time to cross.png\"></span>&nbsp;there\\'s not enough time to cross the street'\n",
      " '\" src=\"images/12 - Bike facility issue.png\"></span>&nbsp;the roadway surface needs improvement'\n",
      " '\" src=\"images/11 - Sidewalk issue.png\"></span>&nbsp;sidewalks/ramps don\\'t exist or need improvement'\n",
      " '\" src=\"images/06 - Speeding.png\"></span>&nbsp;people speed']\n"
     ]
    }
   ],
   "source": []
  },
  {
   "cell_type": "markdown",
   "metadata": {},
   "source": [
    "# Task2 - Model 1 [10 points]"
   ]
  },
  {
   "cell_type": "markdown",
   "metadata": {},
   "source": [
    "Run a baseline multi-class classification model using a bag-of-word approach, report macro f1-score (should be above .5) and visualize the confusion matrix. Can you interpret the mistakes made by the model? "
   ]
  },
  {
   "cell_type": "code",
   "execution_count": 2,
   "metadata": {
    "collapsed": true
   },
   "outputs": [],
   "source": [
    "# Add your code for task 2 here. You may use multiple cells. \n",
    "\n"
   ]
  },
  {
   "cell_type": "markdown",
   "metadata": {},
   "source": [
    "# Task3 - Model 2 [30 points]"
   ]
  },
  {
   "cell_type": "markdown",
   "metadata": {},
   "source": [
    "Improve the model using more complex text features, including n-grams, character n-grams and possibly domain-specific features."
   ]
  },
  {
   "cell_type": "code",
   "execution_count": 3,
   "metadata": {
    "collapsed": true
   },
   "outputs": [],
   "source": [
    "# Add your code for task 3 here. You may use multiple cells. \n",
    "\n"
   ]
  },
  {
   "cell_type": "markdown",
   "metadata": {},
   "source": [
    "# Task4 - Visualize Results [10 points]"
   ]
  },
  {
   "cell_type": "markdown",
   "metadata": {},
   "source": [
    "Visualize results of the tuned model (classification results, confusion matrix, important features, example mistakes)."
   ]
  },
  {
   "cell_type": "code",
   "execution_count": 4,
   "metadata": {
    "collapsed": true
   },
   "outputs": [],
   "source": [
    "# Add your code for task 4 here. You may use multiple cells. \n",
    "\n"
   ]
  },
  {
   "cell_type": "markdown",
   "metadata": {},
   "source": [
    "# Task5 - Clustering [10 points]"
   ]
  },
  {
   "cell_type": "markdown",
   "metadata": {},
   "source": [
    "Apply LDA, NMF and K-Means to the whole dataset. Can you find clusters or topics that match well with some of the ground truth labels? Use ARI to compare the methods and visualize topics and clusters."
   ]
  },
  {
   "cell_type": "code",
   "execution_count": 5,
   "metadata": {
    "collapsed": true
   },
   "outputs": [],
   "source": [
    "# Add your code for task 5 here. You may use multiple cells. \n",
    "\n"
   ]
  },
  {
   "cell_type": "markdown",
   "metadata": {},
   "source": [
    "# Task6 - Model 3 [30 points]"
   ]
  },
  {
   "cell_type": "markdown",
   "metadata": {},
   "source": [
    "Improve the class definition for REQUESTTYPE by using the results of the clustering and results of the previous classification model. Re-assign labels using either the results of clustering or using keywords that you found during data exploration. The labels must be semantically meaningful.\n",
    "The data has a large “other” category. Apply the topic modeling and clustering techniques to this subset of the data to find possible splits of this class.\n",
    "Report accuracy using macro average f1 score (should be above .53) \n"
   ]
  },
  {
   "cell_type": "code",
   "execution_count": 6,
   "metadata": {
    "collapsed": true
   },
   "outputs": [],
   "source": [
    "# Add your code for task 6 here. You may use multiple cells. \n",
    "\n"
   ]
  },
  {
   "cell_type": "markdown",
   "metadata": {},
   "source": [
    "# Extra Credit [Up to +20 points]"
   ]
  },
  {
   "cell_type": "markdown",
   "metadata": {},
   "source": [
    "Use a word embedding representation like word2vec for step 3 and or step 6. "
   ]
  },
  {
   "cell_type": "code",
   "execution_count": 7,
   "metadata": {
    "collapsed": true
   },
   "outputs": [],
   "source": [
    "# Add your code for extra credit here. You may use multiple cells. \n",
    "\n"
   ]
  }
 ],
 "metadata": {
  "anaconda-cloud": {},
  "kernelspec": {
   "display_name": "Python 3",
   "language": "python",
   "name": "python3"
  },
  "language_info": {
   "codemirror_mode": {
    "name": "ipython",
    "version": 3
   },
   "file_extension": ".py",
   "mimetype": "text/x-python",
   "name": "python",
   "nbconvert_exporter": "python",
   "pygments_lexer": "ipython3",
   "version": "3.5.2"
  }
 },
 "nbformat": 4,
 "nbformat_minor": 1
}
