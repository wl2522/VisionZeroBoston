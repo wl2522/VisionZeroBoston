{
 "cells": [
  {
   "cell_type": "markdown",
   "metadata": {},
   "source": [
    "# Homework 4: Modeling Text Data\n",
    "\n",
    "### Team Member 1:\n",
    "* UNI:  WL2522\n",
    "* Name: Wilson Lui\n",
    "\n",
    "### Team Member 2 [optional]:\n",
    "* UNI:  \n",
    "* Name:\n"
   ]
  },
  {
   "cell_type": "markdown",
   "metadata": {},
   "source": [
    "You can find the data here: https://data.boston.gov/dataset/vision-zero-entry"
   ]
  },
  {
   "cell_type": "markdown",
   "metadata": {},
   "source": [
    "# Task1 - Data Cleaning  [10 points]"
   ]
  },
  {
   "cell_type": "markdown",
   "metadata": {},
   "source": [
    "Load the data, visualize the class distribution. Clean up the target labels. Some categories have been arbitrarily split and need to be consolidated. "
   ]
  },
  {
   "cell_type": "markdown",
   "metadata": {},
   "source": [
    "First, rows with no comments or duplicate rows that have the same combination of request type and comment are removed. Rows with  comments that are less than 12 characters long were also removed due to comments of that length not being too informative.\n",
    "\n",
    "\n",
    "Then, embedded image tags are removed from the categories.\n",
    "\n",
    "Having removed the embedded image tags from the categories, the following categories are consolidated due to them having the same meaning with different wordings:\n",
    "\n",
    "\n",
    "1. \"bike facilities don't exist or need improvement\" / \"there are no bike facilities or they need maintenance\"\n",
    "\n",
    "2. \"sidewalks/ramps don't exist or need improvement\" / \"there are no sidewalks or they need maintenance\"\n",
    "\n",
    "3. \"the wait for the \"Walk\" signal is too long\" / \"people have to wait too long for the \"Walk\" signal\"\n",
    "\n",
    "4. \"the roadway surface needs improvement\" / \"the roadway surface needs maintenance\"\n",
    "\n",
    "5. \"it’s hard to see / low visibility\" / \"it’s hard for people to see each other\"\n",
    "\n",
    "6. \"it's too far / too many lanes to cross\" / \"people have to cross too many lanes / too far\"\n",
    "\n",
    "7. \"people are not given enough time to cross the street\" / \"there's not enough time to cross the street\"\n",
    "\n",
    "The following categories are very similar to each other, but not quite the same, and thus were not combined during this preprocessing step:\n",
    "\n",
    "\n",
    ">\"people don't yield while going straight\" / \"people don't yield while turning\" /  \"people run red lights / stop signs\"\n",
    "\n",
    "\n",
    "Whenever categories are consolidated, I merge the category with fewer data points into the one with more data points.\n"
   ]
  },
  {
   "cell_type": "code",
   "execution_count": 1,
   "metadata": {
    "ExecuteTime": {
     "end_time": "2017-04-15T22:50:35.871690",
     "start_time": "2017-04-15T22:50:33.768637"
    },
    "collapsed": false
   },
   "outputs": [],
   "source": [
    "%matplotlib inline\n",
    "\n",
    "import matplotlib.pyplot as plt\n",
    "import pandas as pd\n",
    "import numpy as np\n",
    "import spacy\n",
    "import re\n",
    "\n",
    "from scipy.sparse import hstack\n",
    "from collections import Counter\n",
    "\n",
    "from sklearn.feature_extraction.text import CountVectorizer, TfidfVectorizer\n",
    "from sklearn.model_selection import train_test_split, cross_val_score, GridSearchCV, cross_val_predict\n",
    "from sklearn.metrics import confusion_matrix, classification_report, f1_score\n",
    "from sklearn.preprocessing import Normalizer\n",
    "\n",
    "from sklearn.pipeline import make_pipeline, make_union\n",
    "\n",
    "from sklearn.naive_bayes import MultinomialNB\n",
    "from sklearn.linear_model import LogisticRegressionCV, LogisticRegression\n",
    "from sklearn.ensemble import RandomForestClassifier\n",
    "from sklearn.svm import SVC\n",
    "\n",
    "data = pd.read_csv('Vision_Zero_Entry.csv')\n"
   ]
  },
  {
   "cell_type": "code",
   "execution_count": 2,
   "metadata": {
    "ExecuteTime": {
     "end_time": "2017-04-15T22:50:36.316099",
     "start_time": "2017-04-15T22:50:35.873174"
    },
    "collapsed": false
   },
   "outputs": [
    {
     "name": "stdout",
     "output_type": "stream",
     "text": [
      "[\"bike facilities don't exist or need improvement\"\n",
      " 'of something that is not listed here'\n",
      " \"people don't yield while going straight\"\n",
      " 'it’s hard to see / low visibility' \"people don't yield while turning\"\n",
      " 'people double park their vehicles'\n",
      " 'the wait for the \"Walk\" signal is too long'\n",
      " \"sidewalks/ramps don't exist or need improvement\" 'people speed'\n",
      " 'people cross away from the crosswalks'\n",
      " \"there's not enough time to cross the street\"\n",
      " \"it's too far / too many lanes to cross\"\n",
      " 'people run red lights / stop signs'\n",
      " 'the roadway surface needs improvement'\n",
      " 'there are no bike facilities or they need maintenance'\n",
      " 'the roadway surface needs maintenance'\n",
      " 'people have to cross too many lanes / too far'\n",
      " 'there are no sidewalks or they need maintenance'\n",
      " 'people have to wait too long for the \"Walk\" signal'\n",
      " 'it’s hard for people to see each other'\n",
      " 'people are not given enough time to cross the street'\n",
      " '\" src=\"images/10 - Hard to see.png\"></span>&nbsp;it’s hard to see / low visibility'\n",
      " '\" src=\"images/02 - Wait is too long.png\"></span>&nbsp;the wait for the \"Walk\" signal is too long'\n",
      " '\" src=\"images/14 - Other issue.png\"></span>&nbsp;of something that is not listed here'\n",
      " '\" src=\"images/01 - Not enough time to cross.png\"></span>&nbsp;there\\'s not enough time to cross the street'\n",
      " '\" src=\"images/12 - Bike facility issue.png\"></span>&nbsp;the roadway surface needs improvement'\n",
      " '\" src=\"images/11 - Sidewalk issue.png\"></span>&nbsp;sidewalks/ramps don\\'t exist or need improvement'\n",
      " '\" src=\"images/06 - Speeding.png\"></span>&nbsp;people speed']\n"
     ]
    },
    {
     "data": {
      "text/plain": [
       "([<matplotlib.axis.YTick at 0x1ae00ff9c88>,\n",
       "  <matplotlib.axis.YTick at 0x1ae00fd7898>,\n",
       "  <matplotlib.axis.YTick at 0x1ae00feeb70>,\n",
       "  <matplotlib.axis.YTick at 0x1ae01088978>,\n",
       "  <matplotlib.axis.YTick at 0x1ae01092390>,\n",
       "  <matplotlib.axis.YTick at 0x1ae01092d68>,\n",
       "  <matplotlib.axis.YTick at 0x1ae01096780>,\n",
       "  <matplotlib.axis.YTick at 0x1ae0109b198>,\n",
       "  <matplotlib.axis.YTick at 0x1ae0109bb70>,\n",
       "  <matplotlib.axis.YTick at 0x1ae0109f588>,\n",
       "  <matplotlib.axis.YTick at 0x1ae0109ff60>,\n",
       "  <matplotlib.axis.YTick at 0x1ae010a3978>,\n",
       "  <matplotlib.axis.YTick at 0x1ae010a9390>,\n",
       "  <matplotlib.axis.YTick at 0x1ae010a9d68>,\n",
       "  <matplotlib.axis.YTick at 0x1ae010ad780>,\n",
       "  <matplotlib.axis.YTick at 0x1ae010b3198>,\n",
       "  <matplotlib.axis.YTick at 0x1ae010b3b70>,\n",
       "  <matplotlib.axis.YTick at 0x1ae010b7588>,\n",
       "  <matplotlib.axis.YTick at 0x1ae010b7f60>,\n",
       "  <matplotlib.axis.YTick at 0x1ae010bc978>,\n",
       "  <matplotlib.axis.YTick at 0x1ae010c2390>,\n",
       "  <matplotlib.axis.YTick at 0x1ae010c2d68>,\n",
       "  <matplotlib.axis.YTick at 0x1ae010c5780>,\n",
       "  <matplotlib.axis.YTick at 0x1ae010cb198>,\n",
       "  <matplotlib.axis.YTick at 0x1ae010cbb70>,\n",
       "  <matplotlib.axis.YTick at 0x1ae010cf588>,\n",
       "  <matplotlib.axis.YTick at 0x1ae010cff60>,\n",
       "  <matplotlib.axis.YTick at 0x1ae010d4978>],\n",
       " <a list of 28 Text yticklabel objects>)"
      ]
     },
     "execution_count": 2,
     "metadata": {},
     "output_type": "execute_result"
    },
    {
     "data": {
      "image/png": "[encoded data removed]",
      "text/plain": [
       "<matplotlib.figure.Figure at 0x1ae7b33b9e8>"
      ]
     },
     "metadata": {},
     "output_type": "display_data"
    }
   ],
   "source": [
    "#Visualize the distribution of the categories\n",
    "\n",
    "\n",
    "print(data['REQUESTTYPE'].unique())\n",
    "plt.barh(range(len(data['REQUESTTYPE'].unique())), list(Counter(data['REQUESTTYPE']).values()), align='center')\n",
    "plt.yticks(range(len(data['REQUESTTYPE'].unique())), list(Counter(data['REQUESTTYPE']).keys()))\n"
   ]
  },
  {
   "cell_type": "code",
   "execution_count": 3,
   "metadata": {
    "ExecuteTime": {
     "end_time": "2017-04-15T22:50:36.416194",
     "start_time": "2017-04-15T22:50:36.317601"
    },
    "collapsed": false
   },
   "outputs": [
    {
     "name": "stdout",
     "output_type": "stream",
     "text": [
      "28\n",
      "\" src=\"images/01 - Not enough time to cross.png\"></span>&nbsp;there's not enough time to cross the street\n",
      "\" src=\"images/02 - Wait is too long.png\"></span>&nbsp;the wait for the \"Walk\" signal is too long\n",
      "\" src=\"images/06 - Speeding.png\"></span>&nbsp;people speed\n",
      "\" src=\"images/10 - Hard to see.png\"></span>&nbsp;it’s hard to see / low visibility\n",
      "\" src=\"images/11 - Sidewalk issue.png\"></span>&nbsp;sidewalks/ramps don't exist or need improvement\n",
      "\" src=\"images/12 - Bike facility issue.png\"></span>&nbsp;the roadway surface needs improvement\n",
      "\" src=\"images/14 - Other issue.png\"></span>&nbsp;of something that is not listed here\n",
      "bike facilities don't exist or need improvement\n",
      "it's too far / too many lanes to cross\n",
      "it’s hard for people to see each other\n",
      "it’s hard to see / low visibility\n",
      "of something that is not listed here\n",
      "people are not given enough time to cross the street\n",
      "people cross away from the crosswalks\n",
      "people don't yield while going straight\n",
      "people don't yield while turning\n",
      "people double park their vehicles\n",
      "people have to cross too many lanes / too far\n",
      "people have to wait too long for the \"Walk\" signal\n",
      "people run red lights / stop signs\n",
      "people speed\n",
      "sidewalks/ramps don't exist or need improvement\n",
      "the roadway surface needs improvement\n",
      "the roadway surface needs maintenance\n",
      "the wait for the \"Walk\" signal is too long\n",
      "there are no bike facilities or they need maintenance\n",
      "there are no sidewalks or they need maintenance\n",
      "there's not enough time to cross the street\n",
      "[\"bike facilities don't exist or need improvement\"\n",
      " 'of something that is not listed here'\n",
      " \"people don't yield while going straight\"\n",
      " 'it’s hard to see / low visibility' \"people don't yield while turning\"\n",
      " 'the wait for the \"Walk\" signal is too long'\n",
      " \"sidewalks/ramps don't exist or need improvement\"\n",
      " 'people cross away from the crosswalks'\n",
      " 'people double park their vehicles' 'people speed'\n",
      " 'people run red lights / stop signs'\n",
      " \"it's too far / too many lanes to cross\"\n",
      " \"there's not enough time to cross the street\"\n",
      " 'the roadway surface needs improvement'\n",
      " 'there are no bike facilities or they need maintenance'\n",
      " 'the roadway surface needs maintenance'\n",
      " 'people have to cross too many lanes / too far'\n",
      " 'there are no sidewalks or they need maintenance'\n",
      " 'it’s hard for people to see each other'\n",
      " 'people have to wait too long for the \"Walk\" signal'\n",
      " 'people are not given enough time to cross the street']\n",
      "21\n"
     ]
    }
   ],
   "source": [
    "#Remove rows with no comments\n",
    "#Remove duplicate rows that have the same category and comment\n",
    "#Remove rows with comments that are less than 12 characters long\n",
    "#Create a list of categories\n",
    "#Consolidate the categories that have embedded images tags into corresponding categories\n",
    "\n",
    "\n",
    "data = data[data['COMMENTS'].notnull()]\n",
    "data = data.drop_duplicates(subset=['REQUESTTYPE', 'COMMENTS'])\n",
    "data = data[data['COMMENTS'].str.len() > 12]\n",
    "\n",
    "\n",
    "print(len(data['REQUESTTYPE'].unique()))\n",
    "categories = data['REQUESTTYPE'].unique()\n",
    "categories = categories.tolist()\n",
    "categories.sort()\n",
    "\n",
    "for a in range(len(categories)): print(categories[a])\n",
    "    \n",
    "data['REQUESTTYPE'].replace(to_replace=categories[0:7], value=[\n",
    "        \"there's not enough time to cross the street\",\n",
    "    'the wait for the \"Walk\" signal is too long',\n",
    "    'people speed', 'it’s hard to see / low visibility',\n",
    "        \"sidewalks/ramps don't exist or need improvement\", \"the roadway surface needs improvement\",\n",
    "    \"of something that is not listed here\"], inplace=True)\n",
    "\n",
    "print(data['REQUESTTYPE'].unique())\n",
    "print(len(data['REQUESTTYPE'].unique()))\n"
   ]
  },
  {
   "cell_type": "code",
   "execution_count": 4,
   "metadata": {
    "ExecuteTime": {
     "end_time": "2017-04-15T22:50:36.703032",
     "start_time": "2017-04-15T22:50:36.417195"
    },
    "collapsed": false
   },
   "outputs": [
    {
     "name": "stdout",
     "output_type": "stream",
     "text": [
      "[\"bike facilities don't exist or need improvement\"\n",
      " 'of something that is not listed here'\n",
      " \"people don't yield while going straight\"\n",
      " 'it’s hard to see / low visibility' \"people don't yield while turning\"\n",
      " 'the wait for the \"Walk\" signal is too long'\n",
      " \"sidewalks/ramps don't exist or need improvement\"\n",
      " 'people cross away from the crosswalks'\n",
      " 'people double park their vehicles' 'people speed'\n",
      " 'people run red lights / stop signs'\n",
      " \"it's too far / too many lanes to cross\"\n",
      " \"there's not enough time to cross the street\"\n",
      " 'the roadway surface needs improvement'\n",
      " 'there are no bike facilities or they need maintenance'\n",
      " 'the roadway surface needs maintenance'\n",
      " 'people have to cross too many lanes / too far'\n",
      " 'there are no sidewalks or they need maintenance'\n",
      " 'it’s hard for people to see each other'\n",
      " 'people have to wait too long for the \"Walk\" signal'\n",
      " 'people are not given enough time to cross the street']\n"
     ]
    },
    {
     "data": {
      "text/plain": [
       "([<matplotlib.axis.YTick at 0x1ae00fee710>,\n",
       "  <matplotlib.axis.YTick at 0x1ae011147f0>,\n",
       "  <matplotlib.axis.YTick at 0x1ae01057128>,\n",
       "  <matplotlib.axis.YTick at 0x1ae012bec88>,\n",
       "  <matplotlib.axis.YTick at 0x1ae012c46a0>,\n",
       "  <matplotlib.axis.YTick at 0x1ae012c90b8>,\n",
       "  <matplotlib.axis.YTick at 0x1ae012c9a90>,\n",
       "  <matplotlib.axis.YTick at 0x1ae012cc4a8>,\n",
       "  <matplotlib.axis.YTick at 0x1ae012cce80>,\n",
       "  <matplotlib.axis.YTick at 0x1ae012d0898>,\n",
       "  <matplotlib.axis.YTick at 0x1ae011144e0>,\n",
       "  <matplotlib.axis.YTick at 0x1ae0109bd68>,\n",
       "  <matplotlib.axis.YTick at 0x1ae012d0f28>,\n",
       "  <matplotlib.axis.YTick at 0x1ae012d57b8>,\n",
       "  <matplotlib.axis.YTick at 0x1ae012d91d0>,\n",
       "  <matplotlib.axis.YTick at 0x1ae012d9ba8>,\n",
       "  <matplotlib.axis.YTick at 0x1ae012dd5c0>,\n",
       "  <matplotlib.axis.YTick at 0x1ae012ddf98>,\n",
       "  <matplotlib.axis.YTick at 0x1ae012e39b0>,\n",
       "  <matplotlib.axis.YTick at 0x1ae012e53c8>,\n",
       "  <matplotlib.axis.YTick at 0x1ae012e5da0>],\n",
       " <a list of 21 Text yticklabel objects>)"
      ]
     },
     "execution_count": 4,
     "metadata": {},
     "output_type": "execute_result"
    },
    {
     "data": {
      "image/png": "[encoded data removed]",
      "text/plain": [
       "<matplotlib.figure.Figure at 0x1ae01096a90>"
      ]
     },
     "metadata": {},
     "output_type": "display_data"
    }
   ],
   "source": [
    "#Visualize the distribution of the categories after the first round of category consolidation\n",
    "\n",
    "\n",
    "print(data['REQUESTTYPE'].unique())\n",
    "plt.barh(range(len(data['REQUESTTYPE'].unique())), list(Counter(data['REQUESTTYPE']).values()), align='center')\n",
    "plt.yticks(range(len(data['REQUESTTYPE'].unique())), list(Counter(data['REQUESTTYPE']).keys()))\n"
   ]
  },
  {
   "cell_type": "code",
   "execution_count": 5,
   "metadata": {
    "ExecuteTime": {
     "end_time": "2017-04-15T22:50:36.720035",
     "start_time": "2017-04-15T22:50:36.704020"
    },
    "collapsed": false,
    "scrolled": true
   },
   "outputs": [
    {
     "name": "stdout",
     "output_type": "stream",
     "text": [
      "[(\"bike facilities don't exist or need improvement\", 695), (\"it's too far / too many lanes to cross\", 82), ('it’s hard for people to see each other', 26), ('it’s hard to see / low visibility', 385), ('of something that is not listed here', 1400), ('people are not given enough time to cross the street', 9), ('people cross away from the crosswalks', 254), (\"people don't yield while going straight\", 256), (\"people don't yield while turning\", 451), ('people double park their vehicles', 418), ('people have to cross too many lanes / too far', 24), ('people have to wait too long for the \"Walk\" signal', 27), ('people run red lights / stop signs', 647), ('people speed', 741), (\"sidewalks/ramps don't exist or need improvement\", 299), ('the roadway surface needs improvement', 216), ('the roadway surface needs maintenance', 34), ('the wait for the \"Walk\" signal is too long', 198), ('there are no bike facilities or they need maintenance', 122), ('there are no sidewalks or they need maintenance', 38), (\"there's not enough time to cross the street\", 122)]\n",
      "sidewalks/ramps don't exist or need improvement there are no sidewalks or they need maintenance\n",
      "bike facilities don't exist or need improvement there are no bike facilities or they need maintenance\n",
      "people have to wait too long for the \"Walk\" signal the wait for the \"Walk\" signal is too long\n",
      "the roadway surface needs improvement the roadway surface needs maintenance\n",
      "it’s hard for people to see each other it’s hard to see / low visibility\n",
      "it's too far / too many lanes to cross people have to cross too many lanes / too far\n",
      "people are not given enough time to cross the street there's not enough time to cross the street\n"
     ]
    }
   ],
   "source": [
    "#Count how many occurrences of each category occur in the dataset\n",
    "#Create a list with tuples containing each category and its number of occurrences\n",
    "\n",
    "\n",
    "count = Counter(data['REQUESTTYPE'])\n",
    "count = count.items()\n",
    "count = list(count)\n",
    "count.sort()\n",
    "print(count)\n",
    "\n",
    "print(count[14][0], count[19][0])\n",
    "print(count[0][0], count[18][0])\n",
    "print(count[11][0], count[17][0])\n",
    "print(count[15][0], count[16][0])\n",
    "print(count[2][0], count[3][0])\n",
    "print(count[1][0], count[10][0])\n",
    "print(count[5][0], count[20][0])\n"
   ]
  },
  {
   "cell_type": "code",
   "execution_count": 6,
   "metadata": {
    "ExecuteTime": {
     "end_time": "2017-04-15T22:50:36.798610",
     "start_time": "2017-04-15T22:50:36.721536"
    },
    "collapsed": false,
    "scrolled": true
   },
   "outputs": [
    {
     "name": "stdout",
     "output_type": "stream",
     "text": [
      "Counter({'of something that is not listed here': 1400, \"bike facilities don't exist or need improvement\": 817, 'people speed': 741, 'people run red lights / stop signs': 647, \"people don't yield while turning\": 451, 'people double park their vehicles': 418, 'it’s hard to see / low visibility': 411, \"sidewalks/ramps don't exist or need improvement\": 337, \"people don't yield while going straight\": 256, 'people cross away from the crosswalks': 254, 'the roadway surface needs improvement': 250, 'the wait for the \"Walk\" signal is too long': 225, \"there's not enough time to cross the street\": 131, \"it's too far / too many lanes to cross\": 106})\n",
      "14\n"
     ]
    }
   ],
   "source": [
    "#For each category pair, check which category appears less often\n",
    "#Replace that category with the other category\n",
    "\n",
    "\n",
    "#bike facilities don't exist or need improvement / there are no bike facilities or they need maintenance\n",
    "\n",
    "\n",
    "if count[0][1] > count[18][1]: \n",
    "    data['REQUESTTYPE'].replace(to_replace=count[18][0], value=count[0][0], inplace=True)\n",
    "\n",
    "elif count[18][1] > count[0][1]:\n",
    "    data['REQUESTTYPE'].replace(to_replace=count[0][0], value=count[18][0], inplace=True)\n",
    "\n",
    "    \n",
    "#sidewalks/ramps don't exist or need improvement / there are no sidewalks or they need maintenance\n",
    "\n",
    "\n",
    "if count[14][1] > count[19][1]:\n",
    "    data['REQUESTTYPE'].replace(to_replace=count[19][0], value=count[14][0], inplace=True)\n",
    "    \n",
    "elif count[19][1] > count[14][1]:\n",
    "    data['REQUESTTYPE'].replace(to_replace=count[14][0], value=count[19][0], inplace=True)\n",
    "    \n",
    "    \n",
    "#people have to wait too long for the \"Walk\" signal / the wait for the \"Walk\" signal is too long\n",
    "\n",
    "\n",
    "if count[11][1] > count[17][1]:\n",
    "    data['REQUESTTYPE'].replace(to_replace=count[17][0], value=count[11][0], inplace=True)\n",
    "    \n",
    "elif count[17][1] > count[11][1]:\n",
    "    data['REQUESTTYPE'].replace(to_replace=count[11][0], value=count[17][0], inplace=True)\n",
    "    \n",
    "\n",
    "#the roadway surface needs improvement / the roadway surface needs maintenance\n",
    "\n",
    "\n",
    "if count[15][1] > count[16][1]:\n",
    "    data['REQUESTTYPE'].replace(to_replace=count[16][0], value=count[15][0], inplace=True)\n",
    "    \n",
    "elif count[16][1] > count[15][1]:\n",
    "    data['REQUESTTYPE'].replace(to_replace=count[15][0], value=count[16][0], inplace=True)\n",
    "    \n",
    "    \n",
    "#it’s hard to see / low visibility / it’s hard for people to see each other\n",
    "\n",
    "\n",
    "if count[2][1] > count[3][1]:\n",
    "    data['REQUESTTYPE'].replace(to_replace=count[3][0], value=count[2][0], inplace=True)\n",
    "    \n",
    "elif count[3][1] > count[2][1]:\n",
    "    data['REQUESTTYPE'].replace(to_replace=count[2][0], value=count[3][0], inplace=True)\n",
    "    \n",
    "    \n",
    "#it's too far / too many lanes to cross / people have to cross too many lanes / too far\n",
    "\n",
    "\n",
    "if count[1][1] > count[10][1]:\n",
    "    data['REQUESTTYPE'].replace(to_replace=count[10][0], value=count[1][0], inplace=True)\n",
    "    \n",
    "elif count[10][1] > count[1][1]:\n",
    "    data['REQUESTTYPE'].replace(to_replace[1][0], value=count[10][0], inplace=True)\n",
    "\n",
    "    \n",
    "#people are not given enough time to cross the street / there's not enough time to cross the street\n",
    "\n",
    "\n",
    "if count[5][1] > count[20][1]:\n",
    "    data['REQUESTTYPE'].replace(to_replace=count[20][0], value=count[5][0], inplace=True)\n",
    "    \n",
    "elif count[20][1] > count[5][1]:\n",
    "    data['REQUESTTYPE'].replace(to_replace=count[5][0], value=count[20][0], inplace=True)\n",
    "\n",
    "print(Counter(data['REQUESTTYPE']))\n",
    "print(len(data['REQUESTTYPE'].unique()))\n"
   ]
  },
  {
   "cell_type": "code",
   "execution_count": 7,
   "metadata": {
    "ExecuteTime": {
     "end_time": "2017-04-15T22:50:36.806618",
     "start_time": "2017-04-15T22:50:36.800112"
    },
    "collapsed": false
   },
   "outputs": [],
   "source": [
    "#Make a copy of the dataset\n",
    "#Separate the features from the response variable\n",
    "\n",
    "consolidated_data = data.copy()\n",
    "\n",
    "target = data['REQUESTTYPE']\n",
    "comments = data['COMMENTS']\n"
   ]
  },
  {
   "cell_type": "code",
   "execution_count": 8,
   "metadata": {
    "ExecuteTime": {
     "end_time": "2017-04-15T22:50:37.043345",
     "start_time": "2017-04-15T22:50:36.808119"
    },
    "collapsed": false
   },
   "outputs": [
    {
     "name": "stdout",
     "output_type": "stream",
     "text": [
      "[\"bike facilities don't exist or need improvement\"\n",
      " 'of something that is not listed here'\n",
      " \"people don't yield while going straight\"\n",
      " 'it’s hard to see / low visibility' \"people don't yield while turning\"\n",
      " 'the wait for the \"Walk\" signal is too long'\n",
      " \"sidewalks/ramps don't exist or need improvement\"\n",
      " 'people cross away from the crosswalks'\n",
      " 'people double park their vehicles' 'people speed'\n",
      " 'people run red lights / stop signs'\n",
      " \"it's too far / too many lanes to cross\"\n",
      " \"there's not enough time to cross the street\"\n",
      " 'the roadway surface needs improvement']\n"
     ]
    },
    {
     "data": {
      "text/plain": [
       "([<matplotlib.axis.YTick at 0x1ae012f79e8>,\n",
       "  <matplotlib.axis.YTick at 0x1ae01092860>,\n",
       "  <matplotlib.axis.YTick at 0x1ae0130d358>,\n",
       "  <matplotlib.axis.YTick at 0x1ae01366668>,\n",
       "  <matplotlib.axis.YTick at 0x1ae0136a080>,\n",
       "  <matplotlib.axis.YTick at 0x1ae0136aa58>,\n",
       "  <matplotlib.axis.YTick at 0x1ae0136e470>,\n",
       "  <matplotlib.axis.YTick at 0x1ae0136ee48>,\n",
       "  <matplotlib.axis.YTick at 0x1ae01372860>,\n",
       "  <matplotlib.axis.YTick at 0x1ae01375278>,\n",
       "  <matplotlib.axis.YTick at 0x1ae01375c50>,\n",
       "  <matplotlib.axis.YTick at 0x1ae012f76d8>,\n",
       "  <matplotlib.axis.YTick at 0x1ae012e34a8>,\n",
       "  <matplotlib.axis.YTick at 0x1ae0137c6a0>],\n",
       " <a list of 14 Text yticklabel objects>)"
      ]
     },
     "execution_count": 8,
     "metadata": {},
     "output_type": "execute_result"
    },
    {
     "data": {
      "image/png": "[encoded data removed]",
      "text/plain": [
       "<matplotlib.figure.Figure at 0x1ae0111cf60>"
      ]
     },
     "metadata": {},
     "output_type": "display_data"
    }
   ],
   "source": [
    "#Visualize the distribution of the consolidated categories\n",
    "\n",
    "\n",
    "print(target.unique())\n",
    "plt.barh(range(len(target.unique())), list(Counter(target).values()), align='center')\n",
    "plt.yticks(range(len(target.unique())), list(Counter(target).keys()))\n"
   ]
  },
  {
   "cell_type": "markdown",
   "metadata": {},
   "source": [
    "# Task2 - Model 1 [10 points]"
   ]
  },
  {
   "cell_type": "markdown",
   "metadata": {},
   "source": [
    "Run a baseline multi-class classification model using a bag-of-word approach, report macro f1-score (should be above .5) and visualize the confusion matrix. Can you interpret the mistakes made by the model? "
   ]
  },
  {
   "cell_type": "markdown",
   "metadata": {},
   "source": [
    "The original selection of 28 categories have now been consolidated into the following 14:\n",
    "\n",
    "\n",
    "1. \"bike facilities don't exist or need improvement\"\n",
    "\n",
    "2. \"of something that is not listed here\"\n",
    "\n",
    "3. \"people don't yield while going straight\"\n",
    "\n",
    "4. \"it’s hard to see / low visibility\"\n",
    "\n",
    "5. \"people don't yield while turning\"\n",
    "\n",
    "6. \"the wait for the \"Walk\" signal is too long\"\n",
    "\n",
    "7. \"sidewalks/ramps don't exist or need improvement\"\n",
    "\n",
    "8. \"people cross away from the crosswalks\"\n",
    "\n",
    "9. \"people double park their vehicles\"\n",
    "\n",
    "10. \"people speed\"\n",
    "\n",
    "11. \"people run red lights / stop signs\"\n",
    "\n",
    "12. \"it's too far / too many lanes to cross\"\n",
    "\n",
    "13. \"there's not enough time to cross the street\"\n",
    "\n",
    "14. \"the roadway surface needs improvement\"\n",
    " \n",
    " "
   ]
  },
  {
   "cell_type": "code",
   "execution_count": 9,
   "metadata": {
    "ExecuteTime": {
     "end_time": "2017-04-15T22:50:37.209619",
     "start_time": "2017-04-15T22:50:37.044846"
    },
    "collapsed": false
   },
   "outputs": [],
   "source": [
    "#Split the dataset into training and test sets\n",
    "#Vectorize the comments\n",
    "\n",
    "\n",
    "comments_train, comments_test, target_train, target_test = train_test_split(comments,\n",
    "                                                                            target, stratify=target,\n",
    "                                                                           random_state=3)\n",
    "\n",
    "vect = CountVectorizer()\n",
    "\n",
    "X_train = vect.fit_transform(comments_train)\n",
    "X_test = vect.transform(comments_test)\n",
    "\n",
    "#X_train_scaled = reg.fit_transform(X_train)\n",
    "#X_test_scaled = reg.transform(X_test)\n"
   ]
  },
  {
   "cell_type": "code",
   "execution_count": 14,
   "metadata": {
    "ExecuteTime": {
     "end_time": "2017-04-15T21:09:31.891529",
     "start_time": "2017-04-15T21:09:27.368071"
    },
    "collapsed": false
   },
   "outputs": [
    {
     "name": "stdout",
     "output_type": "stream",
     "text": [
      "Baseline F1 Macro score: 0.514581885128\n"
     ]
    }
   ],
   "source": [
    "#Score a baseline multinomial naive Bayes model using F1-macro score\n",
    "\n",
    "\n",
    "baseline = np.mean(cross_val_score(LogisticRegression(random_state=3), X_train, target_train,\n",
    "                                   cv=5, scoring='f1_macro', n_jobs=8))\n",
    "print('Baseline F1 Macro score:', baseline)\n",
    "\n",
    "assert baseline > 0.5\n"
   ]
  },
  {
   "cell_type": "code",
   "execution_count": 19,
   "metadata": {
    "ExecuteTime": {
     "end_time": "2017-04-15T21:31:40.292490",
     "start_time": "2017-04-15T21:31:35.227577"
    },
    "collapsed": false
   },
   "outputs": [
    {
     "name": "stdout",
     "output_type": "stream",
     "text": [
      "[[454   3   1  78   0   1  14  16   4  16  14   9   3   0]\n",
      " [  7   6   5  26  10   3   2   0   2   7   1   3   5   2]\n",
      " [ 11   0 178  65   1   5   8   2  10  24   2   1   1   0]\n",
      " [ 85   3  40 545  42  25  56  34  74  59  50  16  12   9]\n",
      " [  2   1   1  57  85   9  11   1   4   8   7   1   1   3]\n",
      " [ 14   0  11  42   4  53  20   2  10  28   4   0   3   1]\n",
      " [ 20   0  14  79   4  20 152   2  20  17   1   2   5   2]\n",
      " [ 24   0   2  69   1   0   2 205   3   3   2   2   1   0]\n",
      " [  7   0   5  78   5  12  14   0 317  37   1   0   7   2]\n",
      " [ 23   3  19  72   2  12  13   5  34 367   3   0   2   1]\n",
      " [ 15   0   1  58  10   1   2   4   1   6 148   4   3   0]\n",
      " [ 35   0   3  36   1   1   2   5   2   2   7  92   1   0]\n",
      " [  2   0   2  37   3   1   6   0   8   2   2   0  95  11]\n",
      " [  1   1   2  26   6   2   7   0   4   6   1   0  16  26]]\n",
      "                                                 precision    recall  f1-score   support\n",
      "\n",
      "bike facilities don't exist or need improvement       0.65      0.74      0.69       613\n",
      "         it's too far / too many lanes to cross       0.35      0.08      0.12        79\n",
      "              it’s hard to see / low visibility       0.63      0.58      0.60       308\n",
      "           of something that is not listed here       0.43      0.52      0.47      1050\n",
      "          people cross away from the crosswalks       0.49      0.45      0.47       191\n",
      "        people don't yield while going straight       0.37      0.28      0.31       192\n",
      "               people don't yield while turning       0.49      0.45      0.47       338\n",
      "              people double park their vehicles       0.74      0.65      0.69       314\n",
      "             people run red lights / stop signs       0.64      0.65      0.65       485\n",
      "                                   people speed       0.63      0.66      0.64       556\n",
      "sidewalks/ramps don't exist or need improvement       0.61      0.58      0.60       253\n",
      "          the roadway surface needs improvement       0.71      0.49      0.58       187\n",
      "     the wait for the \"Walk\" signal is too long       0.61      0.56      0.59       169\n",
      "    there's not enough time to cross the street       0.46      0.27      0.34        98\n",
      "\n",
      "                                    avg / total       0.56      0.56      0.56      4833\n",
      "\n"
     ]
    }
   ],
   "source": [
    "#Display the confusion matrix and classification report\n",
    "\n",
    "\n",
    "lr = LogisticRegression(random_state=3)\n",
    "lr.fit(X_train, target_train)\n",
    "\n",
    "np.set_printoptions(linewidth=100)\n",
    "\n",
    "baseline_preds = cross_val_predict(lr, X_train, target_train, cv=5, n_jobs=8)\n",
    "\n",
    "print(confusion_matrix(target_train, baseline_preds))\n",
    "print(classification_report(target_train, baseline_preds))\n",
    "      "
   ]
  },
  {
   "cell_type": "markdown",
   "metadata": {},
   "source": [
    "From the confusion matrix and classification report, it appears that model is having trouble with these particular aspects of the model:\n",
    "\n",
    "1. There are a great number of data points that are incorrectly classified as \"of something that is not listed here\". There are also many data points belonging to that category but incorrectly classified as other categories. Browsing through the comments belonging to \"of something that is not listed here\", it seems that many should belong to categories that already exist. Without having looked at the interface through which these complaints were collected, I would guess that maybe \"of something that is not listed here\" is the default option and many people don't bother changing it before submitting their complaints\n",
    "\n",
    "2. The similarities between comments in the group \"people don't yield while going straight\", \"people don't yield while turning\", and \"people run red lights / stop signs\" are confusing the model. In the confusion matrix, it appears that a portion of the data points in each category are being mistakenly classified as other categories in this group.\n",
    "\n",
    "3. Some data points in the \"people speed\" and \"people run red lights / stop signs\" categories are being mistakenly categorized as the other category. Similar to #1, many other data points belonging to other categories are being mistakenly categorized as one of these two categories.\n",
    "\n",
    "4. Some data points in the group \"bike facilities don't exist or need improvement\", \"sidewalks/ramps don't exist or need improvement\", and \"the roadway surface needs improvement\" categories are being mistakenly categorized as other categories in this group. This seems to be due to the fact that complaints about bike facilities include those about poor road conditions or faded lane marking paint in bike lanes, which would overlap with comments about sidewalks and roadway conditions.\n",
    "\n",
    "5. To a lesser extent than in #1, many data points are being mistakenly classified as \"bike facilities don't exist or need improvement\", most likely due to complaints about the bike facilities mentioning poor road conditions or danger due to traffic.\n"
   ]
  },
  {
   "cell_type": "markdown",
   "metadata": {},
   "source": [
    "# Task3 - Model 2 [30 points]"
   ]
  },
  {
   "cell_type": "markdown",
   "metadata": {},
   "source": [
    "Improve the model using more complex text features, including n-grams, character n-grams and possibly domain-specific features."
   ]
  },
  {
   "cell_type": "markdown",
   "metadata": {},
   "source": [
    "I began removing stop words using CountVectorizer since I saw that it reduced the number of features while achieving the same accuracy. I then performed grid searches using the following models to see if I can get better performance:\n",
    "\n",
    "\n",
    "1. Multinomial Naive Bayes\n",
    "2. Logistic Regression\n",
    "3. Random Forest\n",
    "4. SVM\n",
    "\n",
    "\n",
    "I searched over the following parameter grid for CountVectorizer():\n",
    "\n",
    "\n",
    "1. 'ngram_range': [(1, 1), (1, 2), (1, 5), (1, 7), (2, 3), (2, 5), (3, 8), (5, 5)]\n",
    "2. 'analyzer': ['word', 'char', 'char_wb'],\n",
    "3. 'min_df': [1, 2, 3],\n",
    "4. 'normalizer': [None, Normalizer()]\n",
    "\n",
    "Based on the results, I decided to continue with Naive Bayes and Logistic Regression since they performed the best, with similar cross-validation scores using the optimal parameters.\n",
    "\n",
    "\n",
    "The optimal CountVectorizer() parameters to use with a Naive Bayes model were:\n",
    "\n",
    "\n",
    ">{'normalizer': None, 'min_df': 3, 'analyzer': 'char_wb', 'ngram_range': (2, 5)}\n",
    "\n",
    "\n",
    "The optimal CountVectorizer() parameters to use with a Logistic Regression model were:\n",
    "\n",
    "\n",
    ">{'normalizer': None, 'ngram_range': (3, 8), 'min_df': 2, 'analyzer': 'char'}\n",
    "\n",
    "\n",
    "Next, I used tf-idf rescaling on these two models and found that they greatly reduced the accuracy of the model compared with CountVectorizer(). \n",
    "\n",
    "\n",
    "I also tried adding a feature indicating the length of the original comment string and found that it either improved or worsened the model by a negligible amount. Therefore I decided not to include that feature in my model.\n",
    "\n",
    "\n",
    "Finally, I incorporated a lemmatization function from the spaCy package to use as a custom tokenizer for CountVectorizer(). This change slightly increased my F1 macro score.\n",
    "\n"
   ]
  },
  {
   "cell_type": "code",
   "execution_count": 98,
   "metadata": {
    "ExecuteTime": {
     "end_time": "2017-04-15T20:41:11.109062",
     "start_time": "2017-04-15T20:41:06.414832"
    },
    "collapsed": false
   },
   "outputs": [
    {
     "name": "stdout",
     "output_type": "stream",
     "text": [
      "Stop Word Removal Scores: [ 0.52890967  0.48834931  0.49922607  0.53828119  0.51008299]\n",
      "Stop Word Removal Mean Score: 0.512969846191\n"
     ]
    }
   ],
   "source": [
    "#Remove stop words when vectorizing the dataset\n",
    "\n",
    "\n",
    "stop = CountVectorizer(stop_words='english')\n",
    "\n",
    "X_train = stop.fit_transform(comments_train)\n",
    "X_test = stop.transform(comments_test)\n",
    "\n",
    "lr.fit(X_train, target_train)\n",
    "stop_score = cross_val_score(lr, X_train, target_train, cv=5, scoring='f1_macro', n_jobs=8)\n",
    "\n",
    "print('Stop Word Removal Scores:', stop_score)\n",
    "print('Stop Word Removal Mean Score:', np.mean(stop_score))\n"
   ]
  },
  {
   "cell_type": "markdown",
   "metadata": {},
   "source": [
    "Best score achieved through GridSearchCV with a Multinomial Naive Bayes model:\n",
    "    \n",
    "\n",
    ">0.525103133804\n",
    "\n",
    "\n",
    "Best parameters:\n",
    "\n",
    "\n",
    ">{'normalizer': None, 'min_df': 3, 'analyzer': 'char_wb', 'ngram_range': (2, 5)}\n",
    "\n"
   ]
  },
  {
   "cell_type": "code",
   "execution_count": 27,
   "metadata": {
    "ExecuteTime": {
     "end_time": "2017-04-15T18:08:31.980462",
     "start_time": "2017-04-15T18:02:22.510975"
    },
    "collapsed": false
   },
   "outputs": [
    {
     "name": "stdout",
     "output_type": "stream",
     "text": [
      "0.525103133804\n",
      "{'countvectorizer__ngram_range': (2, 5), 'normalizer': None, 'countvectorizer__min_df': 3, 'countvectorizer__analyzer': 'char_wb'}\n"
     ]
    }
   ],
   "source": [
    "#Grid search using a naive Bayes model to find the best model paramaters\n",
    "\n",
    "\n",
    "params = {'countvectorizer__ngram_range': [(1, 1), (1, 2), (1, 5), (1, 7),\n",
    "                                (2, 3), (2, 5), (3, 8), (5, 5)],\n",
    "             'countvectorizer__analyzer': ['word', 'char', 'char_wb'],\n",
    "           'countvectorizer__min_df': [1, 2, 3],\n",
    "           'normalizer': [None, Normalizer()]\n",
    "}\n",
    "\n",
    "nb_grid = GridSearchCV(make_pipeline(CountVectorizer(stop_words='english'),\n",
    "                                  Normalizer(), MultinomialNB()) ,\n",
    "                    param_grid=params, cv=5, scoring='f1_macro', n_jobs=8)\n",
    "\n",
    "nb_grid.fit(comments_train, target_train)\n",
    "print(nb_grid.best_score_)\n",
    "print(nb_grid.best_params_)\n"
   ]
  },
  {
   "cell_type": "markdown",
   "metadata": {},
   "source": [
    "This section has been commented out to prevent Travis-CI from timing out\n",
    "------------------------------------------------------------------------\n",
    "\n",
    "Best score achieved through GridSearchCV with a logistic regression model:\n",
    "\n",
    "\n",
    ">0.544554548341\n",
    "\n",
    "\n",
    "Best parameters:\n",
    "\n",
    "\n",
    ">{'normalizer': None, 'ngram_range': (3, 8), 'min_df': 2, 'analyzer': 'char', 'C': 0.1}\n",
    "\n",
    "\n"
   ]
  },
  {
   "cell_type": "code",
   "execution_count": 192,
   "metadata": {
    "ExecuteTime": {
     "end_time": "2017-04-15T13:14:25.483801",
     "start_time": "2017-04-15T10:58:04.978376"
    },
    "collapsed": false
   },
   "outputs": [
    {
     "name": "stdout",
     "output_type": "stream",
     "text": [
      "Fitting 5 folds for each of 720 candidates, totalling 3600 fits\n"
     ]
    },
    {
     "name": "stderr",
     "output_type": "stream",
     "text": [
      "[Parallel(n_jobs=8)]: Done  25 tasks      | elapsed:    8.0s\n",
      "[Parallel(n_jobs=8)]: Done 146 tasks      | elapsed:  1.2min\n",
      "[Parallel(n_jobs=8)]: Done 349 tasks      | elapsed:  4.8min\n",
      "[Parallel(n_jobs=8)]: Done 632 tasks      | elapsed:  5.9min\n",
      "[Parallel(n_jobs=8)]: Done 997 tasks      | elapsed:  7.2min\n",
      "[Parallel(n_jobs=8)]: Done 1442 tasks      | elapsed: 26.6min\n",
      "[Parallel(n_jobs=8)]: Done 1969 tasks      | elapsed: 68.1min\n",
      "[Parallel(n_jobs=8)]: Done 2576 tasks      | elapsed: 96.8min\n",
      "[Parallel(n_jobs=8)]: Done 3265 tasks      | elapsed: 123.1min\n",
      "[Parallel(n_jobs=8)]: Done 3600 out of 3600 | elapsed: 135.9min finished\n"
     ]
    },
    {
     "name": "stdout",
     "output_type": "stream",
     "text": [
      "0.544554548341\n",
      "{'normalizer': None, 'countvectorizer__ngram_range': (3, 8), 'countvectorizer__min_df': 2, 'countvectorizer__analyzer': 'char', 'logisticregression__C': 0.1}\n"
     ]
    }
   ],
   "source": [
    "#Grid search using a logistic regression model to find the best model paramaters\n",
    "\n",
    "\n",
    "#lr_params = {'countvectorizer__ngram_range': [(1, 1), (1, 2), (1, 5), (1, 7),\n",
    "#                                (2, 3), (2, 5), (3, 8), (5, 5)],\n",
    "#             'countvectorizer__analyzer': ['word', 'char', 'char_wb'],\n",
    "#           'countvectorizer__min_df': [1, 2, 3],\n",
    "#           'normalizer': [None, Normalizer()],\n",
    "#          'logisticregression__C': [100, 10, 1, 0.1, 0.01]\n",
    "#        }\n",
    "\n",
    "#lr_grid = GridSearchCV(make_pipeline(CountVectorizer(stop_words='english'),\n",
    "#                                    Normalizer(), LogisticRegression()), \n",
    "#                       param_grid=lr_params, cv=5, scoring='f1_macro', n_jobs=8, verbose=2)\n",
    "\n",
    "#lr_grid.fit(comments_train, target_train)\n",
    "#print(lr_grid.best_score_)\n",
    "#print(lr_grid.best_params_)\n"
   ]
  },
  {
   "cell_type": "markdown",
   "metadata": {},
   "source": [
    "This section has been commented out to prevent Travis-CI from timing out\n",
    "------------------------------------------------------------------------\n",
    "\n",
    "Best score achieved through GridSearchCV with a random forest model:\n",
    "\n",
    "\n",
    ">0.505797024798\n",
    "\n",
    "\n",
    "Best parameters:\n",
    "\n",
    "\n",
    ">{'normalizer': None, 'n_estimators': 200, 'ngram_range': (5, 5), 'analyzer': 'char', 'min_df': 3}\n",
    "\n"
   ]
  },
  {
   "cell_type": "code",
   "execution_count": 184,
   "metadata": {
    "ExecuteTime": {
     "end_time": "2017-04-15T04:00:08.267608",
     "start_time": "2017-04-15T01:07:09.253409"
    },
    "collapsed": false,
    "scrolled": true
   },
   "outputs": [
    {
     "name": "stdout",
     "output_type": "stream",
     "text": [
      "Fitting 5 folds for each of 576 candidates, totalling 2880 fits\n"
     ]
    },
    {
     "name": "stderr",
     "output_type": "stream",
     "text": [
      "[Parallel(n_jobs=8)]: Done  16 tasks      | elapsed:   27.4s\n",
      "[Parallel(n_jobs=8)]: Done 112 tasks      | elapsed:  9.6min\n",
      "[Parallel(n_jobs=8)]: Done 272 tasks      | elapsed: 36.1min\n",
      "[Parallel(n_jobs=8)]: Done 496 tasks      | elapsed: 43.5min\n",
      "[Parallel(n_jobs=8)]: Done 784 tasks      | elapsed: 49.0min\n",
      "[Parallel(n_jobs=8)]: Done 1136 tasks      | elapsed: 66.6min\n",
      "[Parallel(n_jobs=8)]: Done 1552 tasks      | elapsed: 107.0min\n",
      "[Parallel(n_jobs=8)]: Done 2032 tasks      | elapsed: 133.7min\n",
      "[Parallel(n_jobs=8)]: Done 2576 tasks      | elapsed: 160.3min\n",
      "[Parallel(n_jobs=8)]: Done 2880 out of 2880 | elapsed: 172.5min finished\n"
     ]
    },
    {
     "name": "stdout",
     "output_type": "stream",
     "text": [
      "0.505797024798\n",
      "{'normalizer': None, 'randomforestclassifier__n_estimators': 200, 'countvectorizer__ngram_range': (5, 5), 'countvectorizer__analyzer': 'char', 'countvectorizer__min_df': 3}\n"
     ]
    }
   ],
   "source": [
    "#Grid search using a random forest model to find the best model parameters\n",
    "\n",
    "\n",
    "#rf_params = {'countvectorizer__ngram_range': [(1, 1), (1, 2), (1, 5), (1, 7),\n",
    "#                                (2, 3), (2, 5), (3, 8), (5, 5)],\n",
    "#             'countvectorizer__analyzer': ['word', 'char', 'char_wb'],\n",
    "#           'countvectorizer__min_df': [1, 2, 3],\n",
    "#           'normalizer': [None, Normalizer()],\n",
    "#             'randomforestclassifier__n_estimators': [50, 100, 150, 200],\n",
    "#        }\n",
    "\n",
    "#rf_grid = GridSearchCV(make_pipeline(CountVectorizer(stop_words='english'),\n",
    "#                                    Normalizer(), RandomForestClassifier()),\n",
    "#                      param_grid=rf_params, cv=5, scoring='f1_macro', n_jobs=8, verbose=3)\n",
    "\n",
    "#rf_grid.fit(comments_train, target_train)\n",
    "#print(rf_grid.best_score_)\n",
    "#print(rf_grid.best_params_)\n"
   ]
  },
  {
   "cell_type": "code",
   "execution_count": null,
   "metadata": {
    "ExecuteTime": {
     "start_time": "2017-04-15T17:54:30.982Z"
    },
    "collapsed": false,
    "scrolled": false
   },
   "outputs": [],
   "source": [
    "#Grid search using an SVM model to find the best model parameters\n",
    "\n",
    "\n",
    "#sv_params = {'countvectorizer__ngram_range': [(1, 1), (1, 2), (1, 5), (1, 7),\n",
    "#                                (2, 3), (2, 5), (3, 8), (5, 5)],\n",
    "#             'countvectorizer__analyzer': ['word', 'char', 'char_wb'],\n",
    "#           'countvectorizer__min_df': [1, 2, 3],\n",
    "#           'normalizer': [None, Normalizer()],\n",
    "#          'svc__C': [100, 10, 1, 0.1, 0.01]\n",
    "#        }\n",
    "\n",
    "#sv_grid = GridSearchCV(make_pipeline(CountVectorizer(stop_words='english'),\n",
    "#                                     Normalizer(), SVC()),\n",
    "#                                    param_grid=sv_params, cv=5, scoring='f1_macro', verbose=2)\n",
    "\n",
    "#sv_grid.fit(comments_train, target_train)\n",
    "#print(sv_grid.best_score_)\n",
    "#print(sv_grid.best_params_)\n"
   ]
  },
  {
   "cell_type": "code",
   "execution_count": 15,
   "metadata": {
    "ExecuteTime": {
     "end_time": "2017-04-15T23:01:39.827571",
     "start_time": "2017-04-15T22:59:36.805086"
    },
    "collapsed": false
   },
   "outputs": [
    {
     "name": "stdout",
     "output_type": "stream",
     "text": [
      "tfidf scores: [ 0.09081819  0.0896437   0.08717221  0.08955632  0.10823895]\n",
      "tfidf mean score 0.0930858747552\n",
      "CountVectorizer scores [ 0.54406666  0.51813003  0.53888965  0.54986739  0.53157476]\n",
      "CountVectorizer mean score 0.536505698152\n"
     ]
    }
   ],
   "source": [
    "#Compare tf-idf rescaling with CountVectorizer using the best Logistic Regression model parameters\n",
    "#{'normalizer': None, 'ngram_range': (3, 8), 'min_df': 2, 'analyzer': 'char', 'C': 0.1}\n",
    "\n",
    "tf_lr_pipe = make_pipeline(TfidfVectorizer(stop_words='english', ngram_range=(3, 8),\n",
    "                                           min_df=2, analyzer='char'),LogisticRegression(C=0.1))\n",
    "\n",
    "cv_lr_pipe = make_pipeline(CountVectorizer(stop_words='english', ngram_range=(3, 8), \n",
    "                                           min_df=2, analyzer='char'), LogisticRegression(C=0.1))\n",
    "\n",
    "tf_lr_pipe.fit(comments_train, target_train)\n",
    "cv_lr_pipe.fit(comments_train, target_train)\n",
    "\n",
    "tf_score = cross_val_score(tf_lr_pipe, comments_train, target_train, cv=5, scoring='f1_macro', n_jobs=8)\n",
    "cv_score = cross_val_score(cv_lr_pipe, comments_train, target_train, cv=5, scoring='f1_macro', n_jobs=8)\n",
    "\n",
    "print('tfidf scores:', tf_score)\n",
    "print('tfidf mean score', np.mean(tf_score))\n",
    "print('CountVectorizer scores', cv_score)\n",
    "print('CountVectorizer mean score', np.mean(cv_score))\n"
   ]
  },
  {
   "cell_type": "code",
   "execution_count": 31,
   "metadata": {
    "ExecuteTime": {
     "end_time": "2017-04-15T18:21:44.076045",
     "start_time": "2017-04-15T18:21:25.454205"
    },
    "collapsed": false
   },
   "outputs": [
    {
     "name": "stderr",
     "output_type": "stream",
     "text": [
      "C:\\Anaconda3\\lib\\site-packages\\sklearn\\metrics\\classification.py:1113: UndefinedMetricWarning: F-score is ill-defined and being set to 0.0 in labels with no predicted samples.\n",
      "  'precision', 'predicted', average, warn_for)\n",
      "C:\\Anaconda3\\lib\\site-packages\\sklearn\\metrics\\classification.py:1113: UndefinedMetricWarning: F-score is ill-defined and being set to 0.0 in labels with no predicted samples.\n",
      "  'precision', 'predicted', average, warn_for)\n",
      "C:\\Anaconda3\\lib\\site-packages\\sklearn\\metrics\\classification.py:1113: UndefinedMetricWarning: F-score is ill-defined and being set to 0.0 in labels with no predicted samples.\n",
      "  'precision', 'predicted', average, warn_for)\n",
      "C:\\Anaconda3\\lib\\site-packages\\sklearn\\metrics\\classification.py:1113: UndefinedMetricWarning: F-score is ill-defined and being set to 0.0 in labels with no predicted samples.\n",
      "  'precision', 'predicted', average, warn_for)\n",
      "C:\\Anaconda3\\lib\\site-packages\\sklearn\\metrics\\classification.py:1113: UndefinedMetricWarning: F-score is ill-defined and being set to 0.0 in labels with no predicted samples.\n",
      "  'precision', 'predicted', average, warn_for)\n"
     ]
    },
    {
     "name": "stdout",
     "output_type": "stream",
     "text": [
      "tfidf: [ 0.1217809   0.13018391  0.11988127  0.10391956  0.11592905]\n"
     ]
    },
    {
     "name": "stderr",
     "output_type": "stream",
     "text": [
      "C:\\Anaconda3\\lib\\site-packages\\sklearn\\metrics\\classification.py:1113: UndefinedMetricWarning: F-score is ill-defined and being set to 0.0 in labels with no predicted samples.\n",
      "  'precision', 'predicted', average, warn_for)\n",
      "C:\\Anaconda3\\lib\\site-packages\\sklearn\\metrics\\classification.py:1113: UndefinedMetricWarning: F-score is ill-defined and being set to 0.0 in labels with no predicted samples.\n",
      "  'precision', 'predicted', average, warn_for)\n",
      "C:\\Anaconda3\\lib\\site-packages\\sklearn\\metrics\\classification.py:1113: UndefinedMetricWarning: F-score is ill-defined and being set to 0.0 in labels with no predicted samples.\n",
      "  'precision', 'predicted', average, warn_for)\n"
     ]
    },
    {
     "name": "stdout",
     "output_type": "stream",
     "text": [
      "CountVectorizer [ 0.5326411   0.53283782  0.52351483  0.50213999  0.53429213]\n"
     ]
    }
   ],
   "source": [
    "#Compare tf-idf rescaling with CountVectorizer using the best Naive Bayes model parameters\n",
    "#{'normalizer': None, 'min_df': 3, 'analyzer': 'char_wb', 'ngram_range': (2, 5)}\n",
    "\n",
    "\n",
    "tf_nb_pipe = make_pipeline(TfidfVectorizer(stop_words='english', ngram_range=(2, 5), \n",
    "                                           min_df=3, analyzer='char_wb'), MultinomialNB())\n",
    "\n",
    "cv_nb_pipe = make_pipeline(CountVectorizer(stop_words='engish', ngram_range=(2, 5),\n",
    "                                          min_df=3, analyzer='char_wb'), MultinomialNB())\n",
    "\n",
    "print('tfidf:',\n",
    "      cross_val_score(tf_nb_pipe, comments_train, target_train,\n",
    "                      cv=5, scoring='f1_macro', n_jobs=8))\n",
    "print('CountVectorizer',\n",
    "     cross_val_score(cv_nb_pipe, comments_train, target_train,\n",
    "                     cv=5, scoring='f1_macro', n_jobs=8))\n"
   ]
  },
  {
   "cell_type": "code",
   "execution_count": 85,
   "metadata": {
    "ExecuteTime": {
     "end_time": "2017-04-15T20:12:55.414148",
     "start_time": "2017-04-15T20:12:52.958969"
    },
    "collapsed": false
   },
   "outputs": [
    {
     "name": "stderr",
     "output_type": "stream",
     "text": [
      "C:\\Anaconda3\\lib\\site-packages\\numpy\\core\\fromnumeric.py:224: FutureWarning: reshape is deprecated and will raise in a subsequent release. Please use .values.reshape(...) instead\n",
      "  return reshape(newshape, order=order)\n",
      "C:\\Anaconda3\\lib\\site-packages\\sklearn\\metrics\\classification.py:1113: UndefinedMetricWarning: F-score is ill-defined and being set to 0.0 in labels with no predicted samples.\n",
      "  'precision', 'predicted', average, warn_for)\n",
      "C:\\Anaconda3\\lib\\site-packages\\sklearn\\metrics\\classification.py:1113: UndefinedMetricWarning: F-score is ill-defined and being set to 0.0 in labels with no predicted samples.\n",
      "  'precision', 'predicted', average, warn_for)\n"
     ]
    },
    {
     "name": "stdout",
     "output_type": "stream",
     "text": [
      "nb scores: [ 0.51692009  0.51441714  0.50502863  0.48843074  0.53145467]\n",
      "nb mean score: 0.511250254695\n"
     ]
    },
    {
     "name": "stderr",
     "output_type": "stream",
     "text": [
      "C:\\Anaconda3\\lib\\site-packages\\sklearn\\metrics\\classification.py:1113: UndefinedMetricWarning: F-score is ill-defined and being set to 0.0 in labels with no predicted samples.\n",
      "  'precision', 'predicted', average, warn_for)\n"
     ]
    }
   ],
   "source": [
    "#Add feature that indicates the length of the original comment string\n",
    "#Evaluate this model using Naive Bayes\n",
    "\n",
    "\n",
    "nb_cv = CountVectorizer(stop_words='english', ngram_range=(2, 5),\n",
    "                       min_df=3, analyzer='char_wb')\n",
    "\n",
    "train_len = comments_train.str.len()\n",
    "train_len = np.reshape(train_len, (4833, 1))\n",
    "\n",
    "\n",
    "comments_len = nb_cv.fit_transform(comments_train)\n",
    "comments_len = hstack((comments_len, train_len))\n",
    "\n",
    "nb_score = cross_val_score(MultinomialNB(), comments_len, target_train, cv=5,\n",
    "                           scoring='f1_macro', n_jobs=8)\n",
    "\n",
    "print('nb scores:', nb_score)\n",
    "print('nb mean score:', np.mean(nb_score))\n"
   ]
  },
  {
   "cell_type": "code",
   "execution_count": 86,
   "metadata": {
    "ExecuteTime": {
     "end_time": "2017-04-15T20:15:41.795417",
     "start_time": "2017-04-15T20:13:44.824277"
    },
    "collapsed": false
   },
   "outputs": [
    {
     "name": "stdout",
     "output_type": "stream",
     "text": [
      "LR scores: [ 0.54986949  0.51620247  0.53466131  0.55470714  0.52731333]\n",
      "LR mean score: 0.536550746229\n"
     ]
    }
   ],
   "source": [
    "#Evaluate this model using Logistic Regression\n",
    "\n",
    "\n",
    "lr_cv = CountVectorizer(stop_words='english', ngram_range=(3, 8),\n",
    "                       min_df=2, analyzer='char')\n",
    "\n",
    "comments_len = lr_cv.fit_transform(comments_train)\n",
    "comments_len = hstack((comments_len, train_len))\n",
    "\n",
    "lr_score = cross_val_score(LogisticRegression(C=0.1), comments_len, target_train, cv=5,\n",
    "                           scoring='f1_macro', n_jobs=8)\n",
    "\n",
    "print('LR scores:', lr_score)      \n",
    "print('LR mean score:', np.mean(lr_score))     \n"
   ]
  },
  {
   "cell_type": "code",
   "execution_count": 10,
   "metadata": {
    "ExecuteTime": {
     "end_time": "2017-04-15T22:50:43.694190",
     "start_time": "2017-04-15T22:50:43.642140"
    },
    "collapsed": false
   },
   "outputs": [],
   "source": [
    "#Implement a custom tokenizer that uses spaCy to perform lemmatization on the comments first\n",
    "\n",
    "\n",
    "regexp = re.compile('(?u)\\\\b\\\\w\\\\w+\\\\b')\n",
    "en_nlp = spacy.load('en_default')\n",
    "\n",
    "old_tokenizer = en_nlp.tokenizer\n",
    "\n",
    "en_nlp.tokenizer = lambda string: old_tokenizer.tokens_from_list(\n",
    "regexp.findall(string))\n",
    "\n",
    "def custom_tokenizer(document):\n",
    "    doc_spacy = en_nlp(document, entity=False, parse=False)\n",
    "    \n",
    "    return [token.lemma_ for token in doc_spacy]\n"
   ]
  },
  {
   "cell_type": "code",
   "execution_count": 12,
   "metadata": {
    "ExecuteTime": {
     "end_time": "2017-04-15T22:53:40.315827",
     "start_time": "2017-04-15T22:51:11.253492"
    },
    "collapsed": false
   },
   "outputs": [
    {
     "name": "stdout",
     "output_type": "stream",
     "text": [
      "LR Lemmatization Scores: [ 0.54406666  0.51813003  0.53888965  0.54986739  0.53157476]\n",
      "LR Lemmatization Mean Scores: 0.536505698152\n"
     ]
    }
   ],
   "source": [
    "#Evaluate this model using Logistic Regression\n",
    "\n",
    "\n",
    "lr_lemma_pipe = make_pipeline(CountVectorizer(tokenizer=custom_tokenizer, stop_words='english',\n",
    "                            ngram_range=(3, 8), min_df=2, analyzer='char'), LogisticRegression(C=0.1))\n",
    "\n",
    "lr_lemma_pipe.fit(comments_train, target_train)\n",
    "lr_lemma_score = cross_val_score(lr_lemma_pipe, comments_train, target_train, cv=5,\n",
    "                                scoring='f1_macro')\n",
    "\n",
    "print('LR Lemmatization Scores:', lr_lemma_score)\n",
    "print('LR Lemmatization Mean Scores:', np.mean(lr_lemma_score))\n"
   ]
  },
  {
   "cell_type": "code",
   "execution_count": 11,
   "metadata": {
    "ExecuteTime": {
     "end_time": "2017-04-15T22:51:01.127735",
     "start_time": "2017-04-15T22:50:50.140064"
    },
    "collapsed": false
   },
   "outputs": [
    {
     "name": "stderr",
     "output_type": "stream",
     "text": [
      "C:\\Anaconda3\\lib\\site-packages\\sklearn\\metrics\\classification.py:1113: UndefinedMetricWarning: F-score is ill-defined and being set to 0.0 in labels with no predicted samples.\n",
      "  'precision', 'predicted', average, warn_for)\n",
      "C:\\Anaconda3\\lib\\site-packages\\sklearn\\metrics\\classification.py:1113: UndefinedMetricWarning: F-score is ill-defined and being set to 0.0 in labels with no predicted samples.\n",
      "  'precision', 'predicted', average, warn_for)\n",
      "C:\\Anaconda3\\lib\\site-packages\\sklearn\\metrics\\classification.py:1113: UndefinedMetricWarning: F-score is ill-defined and being set to 0.0 in labels with no predicted samples.\n",
      "  'precision', 'predicted', average, warn_for)\n"
     ]
    },
    {
     "name": "stdout",
     "output_type": "stream",
     "text": [
      "NB Lemmatization Scores: [ 0.5326411   0.53283782  0.52351483  0.50213999  0.53429213]\n",
      "NB Lemmatization Mean Scores: 0.525085174088\n"
     ]
    }
   ],
   "source": [
    "#Evaluate this model using Naive Bayes\n",
    "\n",
    "\n",
    "nb_lemma_pipe = make_pipeline(CountVectorizer(tokenizer=custom_tokenizer, stop_words='english',\n",
    "                                              ngram_range=(2, 5), min_df=3, analyzer='char_wb'),\n",
    "                             MultinomialNB())\n",
    "\n",
    "nb_lemma_pipe.fit(comments_train, target_train)\n",
    "nb_lemma_score = cross_val_score(nb_lemma_pipe, comments_train, target_train, cv=5,\n",
    "                                scoring='f1_macro')\n",
    "\n",
    "print('NB Lemmatization Scores:', nb_lemma_score)\n",
    "print('NB Lemmatization Mean Scores:', np.mean(nb_lemma_score))\n"
   ]
  },
  {
   "cell_type": "markdown",
   "metadata": {},
   "source": [
    "# Task4 - Visualize Results [10 points]"
   ]
  },
  {
   "cell_type": "markdown",
   "metadata": {},
   "source": [
    "Visualize results of the tuned model (classification results, confusion matrix, important features, example mistakes)."
   ]
  },
  {
   "cell_type": "markdown",
   "metadata": {},
   "source": [
    "Since the Logistic Regression model consistently performed better than the Naive Bayes model, I decided to use that along with lemmatization going forward.\n",
    "\n"
   ]
  },
  {
   "cell_type": "code",
   "execution_count": 17,
   "metadata": {
    "ExecuteTime": {
     "end_time": "2017-04-15T23:05:59.053472",
     "start_time": "2017-04-15T23:03:59.984353"
    },
    "collapsed": false
   },
   "outputs": [
    {
     "name": "stdout",
     "output_type": "stream",
     "text": [
      "[[466   2   1  82   1   2  12  10   2  14   8  13   0   0]\n",
      " [  2   5   3  30   7   5   3   0   2   6   5   1   6   4]\n",
      " [  7   0 182  70   2   2  11   1   9  20   3   1   0   0]\n",
      " [ 82   0  44 575  35  29  46  28  76  64  43  10  12   6]\n",
      " [  3   0   4  59  89   4   6   2   0  12   7   1   1   3]\n",
      " [ 10   0   8  54   6  58  18   2   9  22   3   0   2   0]\n",
      " [ 17   0  12  81   3  16 153   2  27  19   2   0   3   3]\n",
      " [ 17   0   7  51   0   0   1 227   3   3   0   5   0   0]\n",
      " [  7   0   3  84   4  10  19   1 317  33   1   0   4   2]\n",
      " [ 20   2  17  72   1  10  11   3  27 387   3   1   2   0]\n",
      " [ 12   0   3  56  15   0   0   1   2  12 146   3   2   1]\n",
      " [ 32   0   0  38   2   1   2   2   1   0   8 100   1   0]\n",
      " [  3   0   3  31   4   0   3   1  10   4   4   1  94  11]\n",
      " [  0   2   2  25   6   0   5   0   7   6   0   0  16  29]]\n",
      "                                                 precision    recall  f1-score   support\n",
      "\n",
      "bike facilities don't exist or need improvement       0.69      0.76      0.72       613\n",
      "         it's too far / too many lanes to cross       0.45      0.06      0.11        79\n",
      "              it’s hard to see / low visibility       0.63      0.59      0.61       308\n",
      "           of something that is not listed here       0.44      0.55      0.49      1050\n",
      "          people cross away from the crosswalks       0.51      0.47      0.49       191\n",
      "        people don't yield while going straight       0.42      0.30      0.35       192\n",
      "               people don't yield while turning       0.53      0.45      0.49       338\n",
      "              people double park their vehicles       0.81      0.72      0.76       314\n",
      "             people run red lights / stop signs       0.64      0.65      0.65       485\n",
      "                                   people speed       0.64      0.70      0.67       556\n",
      "sidewalks/ramps don't exist or need improvement       0.63      0.58      0.60       253\n",
      "          the roadway surface needs improvement       0.74      0.53      0.62       187\n",
      "     the wait for the \"Walk\" signal is too long       0.66      0.56      0.60       169\n",
      "    there's not enough time to cross the street       0.49      0.30      0.37        98\n",
      "\n",
      "                                    avg / total       0.59      0.59      0.58      4833\n",
      "\n"
     ]
    }
   ],
   "source": [
    "#Score the tuned model on the training set\n",
    "#Print the confusion matrix and classification report\n",
    "\n",
    "\n",
    "preds = cross_val_predict(lr_lemma_pipe, comments_train, target_train, cv=5)\n",
    "\n",
    "print(confusion_matrix(target_train, preds))\n",
    "print(classification_report(target_train, preds))\n"
   ]
  },
  {
   "cell_type": "code",
   "execution_count": null,
   "metadata": {
    "collapsed": true
   },
   "outputs": [],
   "source": []
  },
  {
   "cell_type": "markdown",
   "metadata": {},
   "source": [
    "# Task5 - Clustering [10 points]"
   ]
  },
  {
   "cell_type": "markdown",
   "metadata": {},
   "source": [
    "Apply LDA, NMF and K-Means to the whole dataset. Can you find clusters or topics that match well with some of the ground truth labels? Use ARI to compare the methods and visualize topics and clusters."
   ]
  },
  {
   "cell_type": "code",
   "execution_count": 5,
   "metadata": {
    "collapsed": true
   },
   "outputs": [],
   "source": [
    "# Add your code for task 5 here. You may use multiple cells. \n",
    "\n"
   ]
  },
  {
   "cell_type": "markdown",
   "metadata": {},
   "source": [
    "# Task6 - Model 3 [30 points]"
   ]
  },
  {
   "cell_type": "markdown",
   "metadata": {},
   "source": [
    "Improve the class definition for REQUESTTYPE by using the results of the clustering and results of the previous classification model. Re-assign labels using either the results of clustering or using keywords that you found during data exploration. The labels must be semantically meaningful.\n",
    "The data has a large “other” category. Apply the topic modeling and clustering techniques to this subset of the data to find possible splits of this class.\n",
    "Report accuracy using macro average f1 score (should be above .53) \n"
   ]
  },
  {
   "cell_type": "code",
   "execution_count": 6,
   "metadata": {
    "collapsed": true
   },
   "outputs": [],
   "source": [
    "# Add your code for task 6 here. You may use multiple cells. \n",
    "\n"
   ]
  },
  {
   "cell_type": "markdown",
   "metadata": {},
   "source": [
    "# Extra Credit [Up to +20 points]"
   ]
  },
  {
   "cell_type": "markdown",
   "metadata": {},
   "source": [
    "Use a word embedding representation like word2vec for step 3 and or step 6. "
   ]
  },
  {
   "cell_type": "code",
   "execution_count": 7,
   "metadata": {
    "collapsed": true
   },
   "outputs": [],
   "source": [
    "# Add your code for extra credit here. You may use multiple cells. \n",
    "\n"
   ]
  }
 ],
 "metadata": {
  "anaconda-cloud": {},
  "kernelspec": {
   "display_name": "Python [default]",
   "language": "python",
   "name": "python3"
  },
  "language_info": {
   "codemirror_mode": {
    "name": "ipython",
    "version": 3
   },
   "file_extension": ".py",
   "mimetype": "text/x-python",
   "name": "python",
   "nbconvert_exporter": "python",
   "pygments_lexer": "ipython3",
   "version": "3.5.2"
  }
 },
 "nbformat": 4,
 "nbformat_minor": 1
}
