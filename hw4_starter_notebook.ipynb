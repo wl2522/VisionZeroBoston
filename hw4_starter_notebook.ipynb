{
 "cells": [
  {
   "cell_type": "markdown",
   "metadata": {},
   "source": [
    "# Homework 4: Modeling Text Data\n",
    "\n",
    "### Team Member 1:\n",
    "* UNI:  WL2522\n",
    "* Name: Wilson Lui\n",
    "\n",
    "### Team Member 2 [optional]:\n",
    "* UNI:  \n",
    "* Name:\n"
   ]
  },
  {
   "cell_type": "markdown",
   "metadata": {},
   "source": [
    "You can find the data here: https://data.boston.gov/dataset/vision-zero-entry"
   ]
  },
  {
   "cell_type": "markdown",
   "metadata": {},
   "source": [
    "# Task1 - Data Cleaning  [10 points]"
   ]
  },
  {
   "cell_type": "markdown",
   "metadata": {},
   "source": [
    "Load the data, visualize the class distribution. Clean up the target labels. Some categories have been arbitrarily split and need to be consolidated. "
   ]
  },
  {
   "cell_type": "markdown",
   "metadata": {},
   "source": [
    "First, rows with no comments or duplicate rows that have the same combination of request type and comment are removed. Rows with  comments that are less than 12 characters long were also removed due to comments of that length not being too informative.\n",
    "\n",
    "\n",
    "Then, embedded image tags are removed from the categories.\n",
    "\n",
    "Having removed the embedded image tags from the categories, the following categories are consolidated due to them having the same meaning with different wordings:\n",
    "\n",
    "\n",
    "1. \"bike facilities don't exist or need improvement\" / \"there are no bike facilities or they need maintenance\"\n",
    "\n",
    "2. \"sidewalks/ramps don't exist or need improvement\" / \"there are no sidewalks or they need maintenance\"\n",
    "\n",
    "3. \"the wait for the \"Walk\" signal is too long\" / \"people have to wait too long for the \"Walk\" signal\"\n",
    "\n",
    "4. \"the roadway surface needs improvement\" / \"the roadway surface needs maintenance\"\n",
    "\n",
    "5. \"it’s hard to see / low visibility\" / \"it’s hard for people to see each other\"\n",
    "\n",
    "6. \"it's too far / too many lanes to cross\" / \"people have to cross too many lanes / too far\"\n",
    "\n",
    "7. \"people are not given enough time to cross the street\" / \"there's not enough time to cross the street\"\n",
    "\n",
    "The following categories are very similar to each other, but not quite the same, and thus were not combined during this preprocessing step:\n",
    "\n",
    "\n",
    "\"people don't yield while going straight\" / \"people don't yield while turning\" /  \"people run red lights / stop signs\"\n",
    "\n",
    "\n",
    "Whenever categories are consolidated, I merge the category with fewer data points into the one with more data points.\n"
   ]
  },
  {
   "cell_type": "code",
   "execution_count": 171,
   "metadata": {
    "ExecuteTime": {
     "end_time": "2017-04-15T00:41:06.906732",
     "start_time": "2017-04-15T00:41:06.717464"
    },
    "collapsed": false
   },
   "outputs": [],
   "source": [
    "%matplotlib inline\n",
    "\n",
    "import matplotlib.pyplot as plt\n",
    "import pandas as pd\n",
    "import numpy as np\n",
    "\n",
    "from collections import Counter\n",
    "\n",
    "from sklearn.feature_extraction.text import CountVectorizer\n",
    "from sklearn.linear_model import LogisticRegressionCV, LogisticRegression\n",
    "from sklearn.model_selection import train_test_split, cross_val_score, GridSearchCV\n",
    "from sklearn.metrics import confusion_matrix, classification_report, f1_score\n",
    "from sklearn.preprocessing import Normalizer\n",
    "from sklearn.naive_bayes import MultinomialNB\n",
    "from sklearn.pipeline import make_pipeline\n",
    "from sklearn.ensemble import RandomForestClassifier\n",
    "\n",
    "data = pd.read_csv('Vision_Zero_Entry.csv')\n"
   ]
  },
  {
   "cell_type": "code",
   "execution_count": 172,
   "metadata": {
    "ExecuteTime": {
     "end_time": "2017-04-15T00:41:10.469303",
     "start_time": "2017-04-15T00:41:10.068598"
    },
    "collapsed": false
   },
   "outputs": [
    {
     "name": "stdout",
     "output_type": "stream",
     "text": [
      "[\"bike facilities don't exist or need improvement\" 'of something that is not listed here'\n",
      " \"people don't yield while going straight\" 'it’s hard to see / low visibility'\n",
      " \"people don't yield while turning\" 'people double park their vehicles'\n",
      " 'the wait for the \"Walk\" signal is too long' \"sidewalks/ramps don't exist or need improvement\"\n",
      " 'people speed' 'people cross away from the crosswalks'\n",
      " \"there's not enough time to cross the street\" \"it's too far / too many lanes to cross\"\n",
      " 'people run red lights / stop signs' 'the roadway surface needs improvement'\n",
      " 'there are no bike facilities or they need maintenance' 'the roadway surface needs maintenance'\n",
      " 'people have to cross too many lanes / too far' 'there are no sidewalks or they need maintenance'\n",
      " 'people have to wait too long for the \"Walk\" signal' 'it’s hard for people to see each other'\n",
      " 'people are not given enough time to cross the street'\n",
      " '\" src=\"images/10 - Hard to see.png\"></span>&nbsp;it’s hard to see / low visibility'\n",
      " '\" src=\"images/02 - Wait is too long.png\"></span>&nbsp;the wait for the \"Walk\" signal is too long'\n",
      " '\" src=\"images/14 - Other issue.png\"></span>&nbsp;of something that is not listed here'\n",
      " '\" src=\"images/01 - Not enough time to cross.png\"></span>&nbsp;there\\'s not enough time to cross the street'\n",
      " '\" src=\"images/12 - Bike facility issue.png\"></span>&nbsp;the roadway surface needs improvement'\n",
      " '\" src=\"images/11 - Sidewalk issue.png\"></span>&nbsp;sidewalks/ramps don\\'t exist or need improvement'\n",
      " '\" src=\"images/06 - Speeding.png\"></span>&nbsp;people speed']\n"
     ]
    },
    {
     "data": {
      "text/plain": [
       "([<matplotlib.axis.YTick at 0x1e2e5dc9d30>,\n",
       "  <matplotlib.axis.YTick at 0x1e283bbf710>,\n",
       "  <matplotlib.axis.YTick at 0x1e284501438>,\n",
       "  <matplotlib.axis.YTick at 0x1e28dd5d048>,\n",
       "  <matplotlib.axis.YTick at 0x1e28dd5da20>,\n",
       "  <matplotlib.axis.YTick at 0x1e28dd30438>,\n",
       "  <matplotlib.axis.YTick at 0x1e28dd30e10>,\n",
       "  <matplotlib.axis.YTick at 0x1e28942c828>,\n",
       "  <matplotlib.axis.YTick at 0x1e289436240>,\n",
       "  <matplotlib.axis.YTick at 0x1e289436c18>,\n",
       "  <matplotlib.axis.YTick at 0x1e289432630>,\n",
       "  <matplotlib.axis.YTick at 0x1e28a375048>,\n",
       "  <matplotlib.axis.YTick at 0x1e28a375a20>,\n",
       "  <matplotlib.axis.YTick at 0x1e28a376438>,\n",
       "  <matplotlib.axis.YTick at 0x1e28a376e10>,\n",
       "  <matplotlib.axis.YTick at 0x1e28a36a828>,\n",
       "  <matplotlib.axis.YTick at 0x1e28dd11240>,\n",
       "  <matplotlib.axis.YTick at 0x1e28dd11c18>,\n",
       "  <matplotlib.axis.YTick at 0x1e28dd2a630>,\n",
       "  <matplotlib.axis.YTick at 0x1e28dcfd048>,\n",
       "  <matplotlib.axis.YTick at 0x1e28dcfda20>,\n",
       "  <matplotlib.axis.YTick at 0x1e28dcf7438>,\n",
       "  <matplotlib.axis.YTick at 0x1e28dcf7e10>,\n",
       "  <matplotlib.axis.YTick at 0x1e28a772828>,\n",
       "  <matplotlib.axis.YTick at 0x1e28a758240>,\n",
       "  <matplotlib.axis.YTick at 0x1e28a758c18>,\n",
       "  <matplotlib.axis.YTick at 0x1e28a741630>,\n",
       "  <matplotlib.axis.YTick at 0x1e28de07048>],\n",
       " <a list of 28 Text yticklabel objects>)"
      ]
     },
     "execution_count": 172,
     "metadata": {},
     "output_type": "execute_result"
    },
    {
     "data": {
      "image/png": "[encoded data removed]",
      "text/plain": [
       "<matplotlib.figure.Figure at 0x1e28072bd68>"
      ]
     },
     "metadata": {},
     "output_type": "display_data"
    }
   ],
   "source": [
    "#Visualize the distribution of the categories\n",
    "\n",
    "\n",
    "print(data['REQUESTTYPE'].unique())\n",
    "plt.barh(range(len(data['REQUESTTYPE'].unique())), list(Counter(data['REQUESTTYPE']).values()), align='center')\n",
    "plt.yticks(range(len(data['REQUESTTYPE'].unique())), list(Counter(data['REQUESTTYPE']).keys()))\n"
   ]
  },
  {
   "cell_type": "code",
   "execution_count": 173,
   "metadata": {
    "ExecuteTime": {
     "end_time": "2017-04-15T00:41:14.247861",
     "start_time": "2017-04-15T00:41:13.919010"
    },
    "collapsed": false
   },
   "outputs": [
    {
     "name": "stdout",
     "output_type": "stream",
     "text": [
      "28\n",
      "\" src=\"images/01 - Not enough time to cross.png\"></span>&nbsp;there's not enough time to cross the street\n",
      "\" src=\"images/02 - Wait is too long.png\"></span>&nbsp;the wait for the \"Walk\" signal is too long\n",
      "\" src=\"images/06 - Speeding.png\"></span>&nbsp;people speed\n",
      "\" src=\"images/10 - Hard to see.png\"></span>&nbsp;it’s hard to see / low visibility\n",
      "\" src=\"images/11 - Sidewalk issue.png\"></span>&nbsp;sidewalks/ramps don't exist or need improvement\n",
      "\" src=\"images/12 - Bike facility issue.png\"></span>&nbsp;the roadway surface needs improvement\n",
      "\" src=\"images/14 - Other issue.png\"></span>&nbsp;of something that is not listed here\n",
      "bike facilities don't exist or need improvement\n",
      "it's too far / too many lanes to cross\n",
      "it’s hard for people to see each other\n",
      "it’s hard to see / low visibility\n",
      "of something that is not listed here\n",
      "people are not given enough time to cross the street\n",
      "people cross away from the crosswalks\n",
      "people don't yield while going straight\n",
      "people don't yield while turning\n",
      "people double park their vehicles\n",
      "people have to cross too many lanes / too far\n",
      "people have to wait too long for the \"Walk\" signal\n",
      "people run red lights / stop signs\n",
      "people speed\n",
      "sidewalks/ramps don't exist or need improvement\n",
      "the roadway surface needs improvement\n",
      "the roadway surface needs maintenance\n",
      "the wait for the \"Walk\" signal is too long\n",
      "there are no bike facilities or they need maintenance\n",
      "there are no sidewalks or they need maintenance\n",
      "there's not enough time to cross the street\n",
      "[\"bike facilities don't exist or need improvement\" 'of something that is not listed here'\n",
      " \"people don't yield while going straight\" 'it’s hard to see / low visibility'\n",
      " \"people don't yield while turning\" 'the wait for the \"Walk\" signal is too long'\n",
      " \"sidewalks/ramps don't exist or need improvement\" 'people cross away from the crosswalks'\n",
      " 'people double park their vehicles' 'people speed' 'people run red lights / stop signs'\n",
      " \"it's too far / too many lanes to cross\" \"there's not enough time to cross the street\"\n",
      " 'the roadway surface needs improvement' 'there are no bike facilities or they need maintenance'\n",
      " 'the roadway surface needs maintenance' 'people have to cross too many lanes / too far'\n",
      " 'there are no sidewalks or they need maintenance' 'it’s hard for people to see each other'\n",
      " 'people have to wait too long for the \"Walk\" signal'\n",
      " 'people are not given enough time to cross the street']\n",
      "21\n"
     ]
    }
   ],
   "source": [
    "#Remove rows with no comments\n",
    "#Remove duplicate rows that have the same category and comment\n",
    "#Remove rows with comments that are less than 12 characters long\n",
    "#Create a list of categories\n",
    "#Consolidate the categories that have embedded images tags into corresponding categories\n",
    "\n",
    "\n",
    "data = data[data['COMMENTS'].notnull()]\n",
    "data = data.drop_duplicates(subset=['REQUESTTYPE', 'COMMENTS'])\n",
    "data = data[data['COMMENTS'].str.len() > 12]\n",
    "\n",
    "\n",
    "print(len(data['REQUESTTYPE'].unique()))\n",
    "categories = data['REQUESTTYPE'].unique()\n",
    "categories = categories.tolist()\n",
    "categories.sort()\n",
    "\n",
    "for a in range(len(categories)): print(categories[a])\n",
    "    \n",
    "data['REQUESTTYPE'].replace(to_replace=categories[0:7], value=[\n",
    "        \"there's not enough time to cross the street\",\n",
    "    'the wait for the \"Walk\" signal is too long',\n",
    "    'people speed', 'it’s hard to see / low visibility',\n",
    "        \"sidewalks/ramps don't exist or need improvement\", \"the roadway surface needs improvement\",\n",
    "    \"of something that is not listed here\"], inplace=True)\n",
    "\n",
    "print(data['REQUESTTYPE'].unique())\n",
    "print(len(data['REQUESTTYPE'].unique()))\n"
   ]
  },
  {
   "cell_type": "code",
   "execution_count": 174,
   "metadata": {
    "ExecuteTime": {
     "end_time": "2017-04-15T00:41:40.621079",
     "start_time": "2017-04-15T00:41:40.328742"
    },
    "collapsed": false
   },
   "outputs": [
    {
     "name": "stdout",
     "output_type": "stream",
     "text": [
      "[\"bike facilities don't exist or need improvement\" 'of something that is not listed here'\n",
      " \"people don't yield while going straight\" 'it’s hard to see / low visibility'\n",
      " \"people don't yield while turning\" 'the wait for the \"Walk\" signal is too long'\n",
      " \"sidewalks/ramps don't exist or need improvement\" 'people cross away from the crosswalks'\n",
      " 'people double park their vehicles' 'people speed' 'people run red lights / stop signs'\n",
      " \"it's too far / too many lanes to cross\" \"there's not enough time to cross the street\"\n",
      " 'the roadway surface needs improvement' 'there are no bike facilities or they need maintenance'\n",
      " 'the roadway surface needs maintenance' 'people have to cross too many lanes / too far'\n",
      " 'there are no sidewalks or they need maintenance' 'it’s hard for people to see each other'\n",
      " 'people have to wait too long for the \"Walk\" signal'\n",
      " 'people are not given enough time to cross the street']\n"
     ]
    },
    {
     "data": {
      "text/plain": [
       "([<matplotlib.axis.YTick at 0x1e289376898>,\n",
       "  <matplotlib.axis.YTick at 0x1e28de07748>,\n",
       "  <matplotlib.axis.YTick at 0x1e28dd30390>,\n",
       "  <matplotlib.axis.YTick at 0x1e28405e240>,\n",
       "  <matplotlib.axis.YTick at 0x1e28405ec18>,\n",
       "  <matplotlib.axis.YTick at 0x1e28406f630>,\n",
       "  <matplotlib.axis.YTick at 0x1e284069048>,\n",
       "  <matplotlib.axis.YTick at 0x1e284069a20>,\n",
       "  <matplotlib.axis.YTick at 0x1e284057438>,\n",
       "  <matplotlib.axis.YTick at 0x1e284057e10>,\n",
       "  <matplotlib.axis.YTick at 0x1e28dcf7828>,\n",
       "  <matplotlib.axis.YTick at 0x1e289432a20>,\n",
       "  <matplotlib.axis.YTick at 0x1e2826312b0>,\n",
       "  <matplotlib.axis.YTick at 0x1e282631b70>,\n",
       "  <matplotlib.axis.YTick at 0x1e282605550>,\n",
       "  <matplotlib.axis.YTick at 0x1e282605f28>,\n",
       "  <matplotlib.axis.YTick at 0x1e28262a940>,\n",
       "  <matplotlib.axis.YTick at 0x1e282621358>,\n",
       "  <matplotlib.axis.YTick at 0x1e282621d30>,\n",
       "  <matplotlib.axis.YTick at 0x1e282619748>,\n",
       "  <matplotlib.axis.YTick at 0x1e288b36160>],\n",
       " <a list of 21 Text yticklabel objects>)"
      ]
     },
     "execution_count": 174,
     "metadata": {},
     "output_type": "execute_result"
    },
    {
     "data": {
      "image/png": "[encoded data removed]",
      "text/plain": [
       "<matplotlib.figure.Figure at 0x1e28a376748>"
      ]
     },
     "metadata": {},
     "output_type": "display_data"
    }
   ],
   "source": [
    "#Visualize the distribution of the categories after the first round of category consolidation\n",
    "\n",
    "\n",
    "print(data['REQUESTTYPE'].unique())\n",
    "plt.barh(range(len(data['REQUESTTYPE'].unique())), list(Counter(data['REQUESTTYPE']).values()), align='center')\n",
    "plt.yticks(range(len(data['REQUESTTYPE'].unique())), list(Counter(data['REQUESTTYPE']).keys()))\n"
   ]
  },
  {
   "cell_type": "code",
   "execution_count": 175,
   "metadata": {
    "ExecuteTime": {
     "end_time": "2017-04-15T00:41:44.424947",
     "start_time": "2017-04-15T00:41:44.415939"
    },
    "collapsed": false,
    "scrolled": true
   },
   "outputs": [
    {
     "name": "stdout",
     "output_type": "stream",
     "text": [
      "[(\"bike facilities don't exist or need improvement\", 695), (\"it's too far / too many lanes to cross\", 82), ('it’s hard for people to see each other', 26), ('it’s hard to see / low visibility', 385), ('of something that is not listed here', 1400), ('people are not given enough time to cross the street', 9), ('people cross away from the crosswalks', 254), (\"people don't yield while going straight\", 256), (\"people don't yield while turning\", 451), ('people double park their vehicles', 418), ('people have to cross too many lanes / too far', 24), ('people have to wait too long for the \"Walk\" signal', 27), ('people run red lights / stop signs', 647), ('people speed', 741), (\"sidewalks/ramps don't exist or need improvement\", 299), ('the roadway surface needs improvement', 216), ('the roadway surface needs maintenance', 34), ('the wait for the \"Walk\" signal is too long', 198), ('there are no bike facilities or they need maintenance', 122), ('there are no sidewalks or they need maintenance', 38), (\"there's not enough time to cross the street\", 122)]\n",
      "sidewalks/ramps don't exist or need improvement there are no sidewalks or they need maintenance\n",
      "bike facilities don't exist or need improvement there are no bike facilities or they need maintenance\n",
      "people have to wait too long for the \"Walk\" signal the wait for the \"Walk\" signal is too long\n",
      "the roadway surface needs improvement the roadway surface needs maintenance\n",
      "it’s hard for people to see each other it’s hard to see / low visibility\n",
      "it's too far / too many lanes to cross people have to cross too many lanes / too far\n",
      "people are not given enough time to cross the street there's not enough time to cross the street\n"
     ]
    }
   ],
   "source": [
    "#Count how many occurrences of each category occur in the dataset\n",
    "#Create a list with tuples containing each category and its number of occurrences\n",
    "\n",
    "\n",
    "count = Counter(data['REQUESTTYPE'])\n",
    "count = count.items()\n",
    "count = list(count)\n",
    "count.sort()\n",
    "print(count)\n",
    "\n",
    "print(count[14][0], count[19][0])\n",
    "print(count[0][0], count[18][0])\n",
    "print(count[11][0], count[17][0])\n",
    "print(count[15][0], count[16][0])\n",
    "print(count[2][0], count[3][0])\n",
    "print(count[1][0], count[10][0])\n",
    "print(count[5][0], count[20][0])\n"
   ]
  },
  {
   "cell_type": "code",
   "execution_count": 176,
   "metadata": {
    "ExecuteTime": {
     "end_time": "2017-04-15T00:41:50.339203",
     "start_time": "2017-04-15T00:41:50.267091"
    },
    "collapsed": false,
    "scrolled": true
   },
   "outputs": [
    {
     "name": "stdout",
     "output_type": "stream",
     "text": [
      "Counter({'of something that is not listed here': 1400, \"bike facilities don't exist or need improvement\": 817, 'people speed': 741, 'people run red lights / stop signs': 647, \"people don't yield while turning\": 451, 'people double park their vehicles': 418, 'it’s hard to see / low visibility': 411, \"sidewalks/ramps don't exist or need improvement\": 337, \"people don't yield while going straight\": 256, 'people cross away from the crosswalks': 254, 'the roadway surface needs improvement': 250, 'the wait for the \"Walk\" signal is too long': 225, \"there's not enough time to cross the street\": 131, \"it's too far / too many lanes to cross\": 106})\n",
      "14\n"
     ]
    }
   ],
   "source": [
    "#For each category pair, check which category appears less often\n",
    "#Replace that category with the other category\n",
    "\n",
    "\n",
    "#bike facilities don't exist or need improvement / there are no bike facilities or they need maintenance\n",
    "\n",
    "\n",
    "if count[0][1] > count[18][1]: \n",
    "    data['REQUESTTYPE'].replace(to_replace=count[18][0], value=count[0][0], inplace=True)\n",
    "\n",
    "elif count[18][1] > count[0][1]:\n",
    "    data['REQUESTTYPE'].replace(to_replace=count[0][0], value=count[18][0], inplace=True)\n",
    "\n",
    "    \n",
    "#sidewalks/ramps don't exist or need improvement / there are no sidewalks or they need maintenance\n",
    "\n",
    "\n",
    "if count[14][1] > count[19][1]:\n",
    "    data['REQUESTTYPE'].replace(to_replace=count[19][0], value=count[14][0], inplace=True)\n",
    "    \n",
    "elif count[19][1] > count[14][1]:\n",
    "    data['REQUESTTYPE'].replace(to_replace=count[14][0], value=count[19][0], inplace=True)\n",
    "    \n",
    "    \n",
    "#people have to wait too long for the \"Walk\" signal / the wait for the \"Walk\" signal is too long\n",
    "\n",
    "\n",
    "if count[11][1] > count[17][1]:\n",
    "    data['REQUESTTYPE'].replace(to_replace=count[17][0], value=count[11][0], inplace=True)\n",
    "    \n",
    "elif count[17][1] > count[11][1]:\n",
    "    data['REQUESTTYPE'].replace(to_replace=count[11][0], value=count[17][0], inplace=True)\n",
    "    \n",
    "\n",
    "#the roadway surface needs improvement / the roadway surface needs maintenance\n",
    "\n",
    "\n",
    "if count[15][1] > count[16][1]:\n",
    "    data['REQUESTTYPE'].replace(to_replace=count[16][0], value=count[15][0], inplace=True)\n",
    "    \n",
    "elif count[16][1] > count[15][1]:\n",
    "    data['REQUESTTYPE'].replace(to_replace=count[15][0], value=count[16][0], inplace=True)\n",
    "    \n",
    "    \n",
    "#it’s hard to see / low visibility / it’s hard for people to see each other\n",
    "\n",
    "\n",
    "if count[2][1] > count[3][1]:\n",
    "    data['REQUESTTYPE'].replace(to_replace=count[3][0], value=count[2][0], inplace=True)\n",
    "    \n",
    "elif count[3][1] > count[2][1]:\n",
    "    data['REQUESTTYPE'].replace(to_replace=count[2][0], value=count[3][0], inplace=True)\n",
    "    \n",
    "    \n",
    "#it's too far / too many lanes to cross / people have to cross too many lanes / too far\n",
    "\n",
    "\n",
    "if count[1][1] > count[10][1]:\n",
    "    data['REQUESTTYPE'].replace(to_replace=count[10][0], value=count[1][0], inplace=True)\n",
    "    \n",
    "elif count[10][1] > count[1][1]:\n",
    "    data['REQUESTTYPE'].replace(to_replace[1][0], value=count[10][0], inplace=True)\n",
    "\n",
    "    \n",
    "#people are not given enough time to cross the street / there's not enough time to cross the street\n",
    "\n",
    "\n",
    "if count[5][1] > count[20][1]:\n",
    "    data['REQUESTTYPE'].replace(to_replace=count[20][0], value=count[5][0], inplace=True)\n",
    "    \n",
    "elif count[20][1] > count[5][1]:\n",
    "    data['REQUESTTYPE'].replace(to_replace=count[5][0], value=count[20][0], inplace=True)\n",
    "\n",
    "print(Counter(data['REQUESTTYPE']))\n",
    "print(len(data['REQUESTTYPE'].unique()))\n"
   ]
  },
  {
   "cell_type": "code",
   "execution_count": 178,
   "metadata": {
    "ExecuteTime": {
     "end_time": "2017-04-15T00:43:55.188234",
     "start_time": "2017-04-15T00:43:55.183249"
    },
    "collapsed": false
   },
   "outputs": [],
   "source": [
    "#Make a copy of the dataset\n",
    "#Separate the features from the response variable\n",
    "\n",
    "consolidated_data = data.copy()\n",
    "\n",
    "target = data['REQUESTTYPE']\n",
    "comments = data['COMMENTS']\n"
   ]
  },
  {
   "cell_type": "code",
   "execution_count": 179,
   "metadata": {
    "ExecuteTime": {
     "end_time": "2017-04-15T00:44:04.957053",
     "start_time": "2017-04-15T00:44:04.726179"
    },
    "collapsed": false
   },
   "outputs": [
    {
     "name": "stdout",
     "output_type": "stream",
     "text": [
      "[\"bike facilities don't exist or need improvement\" 'of something that is not listed here'\n",
      " \"people don't yield while going straight\" 'it’s hard to see / low visibility'\n",
      " \"people don't yield while turning\" 'the wait for the \"Walk\" signal is too long'\n",
      " \"sidewalks/ramps don't exist or need improvement\" 'people cross away from the crosswalks'\n",
      " 'people double park their vehicles' 'people speed' 'people run red lights / stop signs'\n",
      " \"it's too far / too many lanes to cross\" \"there's not enough time to cross the street\"\n",
      " 'the roadway surface needs improvement']\n"
     ]
    },
    {
     "data": {
      "text/plain": [
       "([<matplotlib.axis.YTick at 0x1e283f6d208>,\n",
       "  <matplotlib.axis.YTick at 0x1e280742320>,\n",
       "  <matplotlib.axis.YTick at 0x1e28de23748>,\n",
       "  <matplotlib.axis.YTick at 0x1e283ff0668>,\n",
       "  <matplotlib.axis.YTick at 0x1e28400c080>,\n",
       "  <matplotlib.axis.YTick at 0x1e28400ca58>,\n",
       "  <matplotlib.axis.YTick at 0x1e281140470>,\n",
       "  <matplotlib.axis.YTick at 0x1e281140e48>,\n",
       "  <matplotlib.axis.YTick at 0x1e28112f860>,\n",
       "  <matplotlib.axis.YTick at 0x1e28115a278>,\n",
       "  <matplotlib.axis.YTick at 0x1e284803c18>,\n",
       "  <matplotlib.axis.YTick at 0x1e28115a668>,\n",
       "  <matplotlib.axis.YTick at 0x1e28115aef0>,\n",
       "  <matplotlib.axis.YTick at 0x1e281149908>],\n",
       " <a list of 14 Text yticklabel objects>)"
      ]
     },
     "execution_count": 179,
     "metadata": {},
     "output_type": "execute_result"
    },
    {
     "data": {
      "image/png": "[encoded data removed]",
      "text/plain": [
       "<matplotlib.figure.Figure at 0x1e28429bba8>"
      ]
     },
     "metadata": {},
     "output_type": "display_data"
    }
   ],
   "source": [
    "#Visualize the distribution of the consolidated categories\n",
    "\n",
    "\n",
    "print(target.unique())\n",
    "plt.barh(range(len(target.unique())), list(Counter(target).values()), align='center')\n",
    "plt.yticks(range(len(target.unique())), list(Counter(target).keys()))\n"
   ]
  },
  {
   "cell_type": "markdown",
   "metadata": {},
   "source": [
    "# Task2 - Model 1 [10 points]"
   ]
  },
  {
   "cell_type": "markdown",
   "metadata": {},
   "source": [
    "Run a baseline multi-class classification model using a bag-of-word approach, report macro f1-score (should be above .5) and visualize the confusion matrix. Can you interpret the mistakes made by the model? "
   ]
  },
  {
   "cell_type": "markdown",
   "metadata": {},
   "source": [
    "The original selection of 28 categories have now been consolidated into the following 14:\n",
    "\n",
    "\n",
    "1. \"bike facilities don't exist or need improvement\"\n",
    "\n",
    "2. \"of something that is not listed here\"\n",
    "\n",
    "3. \"people don't yield while going straight\"\n",
    "\n",
    "4. \"it’s hard to see / low visibility\"\n",
    "\n",
    "5. \"people don't yield while turning\"\n",
    "\n",
    "6. \"the wait for the \"Walk\" signal is too long\"\n",
    "\n",
    "7. \"sidewalks/ramps don't exist or need improvement\"\n",
    "\n",
    "8. \"people cross away from the crosswalks\"\n",
    "\n",
    "9. \"people double park their vehicles\"\n",
    "\n",
    "10. \"people speed\"\n",
    "\n",
    "11. \"people run red lights / stop signs\"\n",
    "\n",
    "12. \"it's too far / too many lanes to cross\"\n",
    "\n",
    "13. \"there's not enough time to cross the street\"\n",
    "\n",
    "14. \"the roadway surface needs improvement\"\n",
    " \n",
    " "
   ]
  },
  {
   "cell_type": "code",
   "execution_count": 154,
   "metadata": {
    "ExecuteTime": {
     "end_time": "2017-04-14T23:06:07.585181",
     "start_time": "2017-04-14T23:06:07.433390"
    },
    "collapsed": false
   },
   "outputs": [],
   "source": [
    "#Split the dataset into training and test sets\n",
    "#Vectorize the comments\n",
    "\n",
    "\n",
    "comments_train, comments_test, target_train, target_test = train_test_split(comments, target, stratify=target)\n",
    "\n",
    "X_train = vect.fit_transform(comments_train)\n",
    "X_test = vect.transform(comments_test)\n",
    "\n",
    "#X_train_scaled = reg.fit_transform(X_train)\n",
    "#X_test_scaled = reg.transform(X_test)\n"
   ]
  },
  {
   "cell_type": "code",
   "execution_count": 155,
   "metadata": {
    "ExecuteTime": {
     "end_time": "2017-04-14T23:06:07.624219",
     "start_time": "2017-04-14T23:06:07.586164"
    },
    "collapsed": false
   },
   "outputs": [
    {
     "name": "stdout",
     "output_type": "stream",
     "text": [
      "Baseline F1 Macro score: 0.644892779125\n"
     ]
    }
   ],
   "source": [
    "#Score a baseline multinomial naive Bayes model using F1-macro score\n",
    "\n",
    "#lr = LogisticRegressionCV(scoring='f1_macro', n_jobs=8, random_state=3)\n",
    "#lr.fit(X_train_scaled, target_train)\n",
    "\n",
    "nb = MultinomialNB()\n",
    "nb.fit(X_train, target_train)\n",
    "baseline = f1_score(target_train, nb.predict(X_train), average='macro')\n",
    "\n",
    "print('Baseline F1 Macro score:', baseline)\n",
    "\n",
    "assert baseline > 0.5\n"
   ]
  },
  {
   "cell_type": "code",
   "execution_count": 156,
   "metadata": {
    "ExecuteTime": {
     "end_time": "2017-04-14T23:06:07.675250",
     "start_time": "2017-04-14T23:06:07.625702"
    },
    "collapsed": false
   },
   "outputs": [
    {
     "name": "stdout",
     "output_type": "stream",
     "text": [
      "[[552   0   0  49   1   0   1   1   3   3   0   3   0   0]\n",
      " [  7   7   2  43   3   0   2   0   3   6   0   1   5   0]\n",
      " [  3   0 208  68   0   1   5   3   9  11   0   0   0   0]\n",
      " [ 58   0   6 870   5   2   8  11  33  39  11   2   5   0]\n",
      " [  1   0   1  87  84   0   0   1   7   9   1   0   0   0]\n",
      " [  2   0   2  73   0  48  19   0  27  20   1   0   0   0]\n",
      " [ 12   0   4 104   0   4 189   0  14   9   0   0   2   0]\n",
      " [ 17   0   3  37   1   0   0 254   2   0   0   0   0   0]\n",
      " [  2   0   3  58   0   1   6   1 399  14   0   0   1   0]\n",
      " [ 14   0   8  55   0   1   7   1  22 448   0   0   0   0]\n",
      " [ 17   0   4  60   0   0   1   1   0  10 159   0   1   0]\n",
      " [ 42   0   1  31   0   0   1   0   1   4   4 102   1   0]\n",
      " [  1   0   0  35   0   0   2   0  14   1   0   0 116   0]\n",
      " [  1   0   1  41   1   0   6   0  13   6   1   0   4  24]]\n",
      "                                                 precision    recall  f1-score   support\n",
      "\n",
      "bike facilities don't exist or need improvement       0.76      0.90      0.82       613\n",
      "         it's too far / too many lanes to cross       1.00      0.09      0.16        79\n",
      "              it’s hard to see / low visibility       0.86      0.68      0.75       308\n",
      "           of something that is not listed here       0.54      0.83      0.65      1050\n",
      "          people cross away from the crosswalks       0.88      0.44      0.59       191\n",
      "        people don't yield while going straight       0.84      0.25      0.39       192\n",
      "               people don't yield while turning       0.77      0.56      0.65       338\n",
      "              people double park their vehicles       0.93      0.81      0.87       314\n",
      "             people run red lights / stop signs       0.73      0.82      0.77       485\n",
      "                                   people speed       0.77      0.81      0.79       556\n",
      "sidewalks/ramps don't exist or need improvement       0.90      0.63      0.74       253\n",
      "          the roadway surface needs improvement       0.94      0.55      0.69       187\n",
      "     the wait for the \"Walk\" signal is too long       0.86      0.69      0.76       169\n",
      "    there's not enough time to cross the street       1.00      0.24      0.39        98\n",
      "\n",
      "                                    avg / total       0.76      0.72      0.71      4833\n",
      "\n"
     ]
    }
   ],
   "source": [
    "#Display the confusion matrix\n",
    "\n",
    "\n",
    "np.set_printoptions(linewidth=100)\n",
    "\n",
    "print(confusion_matrix(target_train, nb.predict(X_train)))\n",
    "print(classification_report(target_train, nb.predict(X_train)))\n",
    "      "
   ]
  },
  {
   "cell_type": "markdown",
   "metadata": {},
   "source": [
    "From the confusion matrix and classification report, it appears that model is having trouble with these particular aspects of the model:\n",
    "\n",
    "1. There are a great number of data points that are incorrectly classified as \"of something that is not listed here\". There are also many data points belonging to that category but incorrectly classified as other categories. Browsing through the comments belonging to \"of something that is not listed here\", it seems that many should belong to categories that already exist. Without having looked at the interface through which these complaints were collected, I would guess that maybe \"of something that is not listed here\" is the default option and many people don't bother changing it before submitting their complaints\n",
    "\n",
    "2. The similarities between comments in the group \"people don't yield while going straight\", \"people don't yield while turning\", and \"people run red lights / stop signs\" are confusing the model. In the confusion matrix, it appears that a portion of the data points in each category are being mistakenly classified as other categories in this group.\n",
    "\n",
    "3. Some data points in the \"people speed\" and \"people run red lights / stop signs\" categories are being mistakenly categorized as the other category. Similar to #1, many other data points belonging to other categories are being mistakenly categorized as one of these two categories.\n",
    "\n",
    "4. Some data points in the group \"bike facilities don't exist or need improvement\", \"sidewalks/ramps don't exist or need improvement\", and \"the roadway surface needs improvement\" categories are being mistakenly categorized as other categories in this group. This seems to be due to the fact that complaints about bike facilities include those about poor road conditions or faded lane marking paint in bike lanes, which would overlap with comments about sidewalks and roadway conditions.\n",
    "\n",
    "5. About 18% of the data points in the \"there's not enough time to cross the street\" category were mistakenly categorized as \"it's too far / too many lanes to cross\". These two categories should be considered for future consolidation.\n"
   ]
  },
  {
   "cell_type": "markdown",
   "metadata": {},
   "source": [
    "# Task3 - Model 2 [30 points]"
   ]
  },
  {
   "cell_type": "markdown",
   "metadata": {},
   "source": [
    "Improve the model using more complex text features, including n-grams, character n-grams and possibly domain-specific features."
   ]
  },
  {
   "cell_type": "code",
   "execution_count": 157,
   "metadata": {
    "ExecuteTime": {
     "end_time": "2017-04-14T23:06:07.852023",
     "start_time": "2017-04-14T23:06:07.676251"
    },
    "collapsed": false
   },
   "outputs": [
    {
     "name": "stdout",
     "output_type": "stream",
     "text": [
      "0.644892779125\n"
     ]
    }
   ],
   "source": [
    "#Remove stop words when vectorizing the dataset\n",
    "\n",
    "\n",
    "stop = CountVectorizer(stop_words='english')\n",
    "\n",
    "X_train = stop.fit_transform(comments_train)\n",
    "X_test = stop.transform(comments_test)\n",
    "\n",
    "nb.fit(X_train, target_train)\n",
    "print(f1_score(target_train, nb.predict(X_train), average='macro'))\n"
   ]
  },
  {
   "cell_type": "markdown",
   "metadata": {},
   "source": [
    "Best score achieved through GridSearchCV with a Multinomial Naive Bayes model:\n",
    "    \n",
    "\n",
    "0.521056831865\n",
    "\n",
    "\n",
    "Best parameters:\n",
    "\n",
    "\n",
    "{'normalizer': None, 'min_df': 3, 'analyzer': 'char', 'ngram_range': (5, 5)}\n",
    "\n"
   ]
  },
  {
   "cell_type": "code",
   "execution_count": null,
   "metadata": {
    "ExecuteTime": {
     "start_time": "2017-04-15T19:01:47.593Z"
    },
    "collapsed": false
   },
   "outputs": [],
   "source": [
    "#Grid search using a naive Bayes model to find the best model paramaters\n",
    "\n",
    "\n",
    "params = {'countvectorizer__ngram_range': [(1, 1), (1, 2), (1, 5), (1, 7),\n",
    "                                (2, 3), (2, 5), (3, 8), (5, 5)],\n",
    "             'countvectorizer__analyzer': ['word', 'char', 'char_wb'],\n",
    "           'countvectorizer__min_df': [1, 2, 3],\n",
    "           'normalizer': [None, Normalizer()]\n",
    "}\n",
    "\n",
    "nb_grid = GridSearchCV(make_pipeline(CountVectorizer(stop_words='english'),\n",
    "                                  Normalizer(), MultinomialNB()) ,\n",
    "                    param_grid=params, cv=5, scoring='f1_macro', n_jobs=8)\n",
    "\n",
    "nb_grid.fit(comments_train, target_train)\n",
    "print(nb_grid.best_score_)\n",
    "print(nb_grid.best_params_)\n"
   ]
  },
  {
   "cell_type": "markdown",
   "metadata": {},
   "source": [
    "This section has been commented out to prevent Travis-CI from timing out\n",
    "------------------------------------------------------------------------\n",
    "\n",
    "Best score achieved through GridSearchCV with a logistic regression model:\n",
    "\n",
    "\n",
    "0.544554548341\n",
    "\n",
    "\n",
    "Best parameters:\n",
    "\n",
    "\n",
    "{'normalizer': None, 'ngram_range': (3, 8), 'min_df': 2, 'analyzer': 'char', 'C': 0.1}\n",
    "\n",
    "\n"
   ]
  },
  {
   "cell_type": "code",
   "execution_count": 192,
   "metadata": {
    "ExecuteTime": {
     "end_time": "2017-04-15T13:14:25.483801",
     "start_time": "2017-04-15T10:58:04.978376"
    },
    "collapsed": false
   },
   "outputs": [
    {
     "name": "stdout",
     "output_type": "stream",
     "text": [
      "Fitting 5 folds for each of 720 candidates, totalling 3600 fits\n"
     ]
    },
    {
     "name": "stderr",
     "output_type": "stream",
     "text": [
      "[Parallel(n_jobs=8)]: Done  25 tasks      | elapsed:    8.0s\n",
      "[Parallel(n_jobs=8)]: Done 146 tasks      | elapsed:  1.2min\n",
      "[Parallel(n_jobs=8)]: Done 349 tasks      | elapsed:  4.8min\n",
      "[Parallel(n_jobs=8)]: Done 632 tasks      | elapsed:  5.9min\n",
      "[Parallel(n_jobs=8)]: Done 997 tasks      | elapsed:  7.2min\n",
      "[Parallel(n_jobs=8)]: Done 1442 tasks      | elapsed: 26.6min\n",
      "[Parallel(n_jobs=8)]: Done 1969 tasks      | elapsed: 68.1min\n",
      "[Parallel(n_jobs=8)]: Done 2576 tasks      | elapsed: 96.8min\n",
      "[Parallel(n_jobs=8)]: Done 3265 tasks      | elapsed: 123.1min\n",
      "[Parallel(n_jobs=8)]: Done 3600 out of 3600 | elapsed: 135.9min finished\n"
     ]
    },
    {
     "name": "stdout",
     "output_type": "stream",
     "text": [
      "0.544554548341\n",
      "{'normalizer': None, 'countvectorizer__ngram_range': (3, 8), 'countvectorizer__min_df': 2, 'countvectorizer__analyzer': 'char', 'logisticregression__C': 0.1}\n"
     ]
    }
   ],
   "source": [
    "#Grid search using a logistic regression model to find the best model paramaters\n",
    "\n",
    "\n",
    "#lr_params = {'countvectorizer__ngram_range': [(1, 1), (1, 2), (1, 5), (1, 7),\n",
    "#                                (2, 3), (2, 5), (3, 8), (5, 5)],\n",
    "#             'countvectorizer__analyzer': ['word', 'char', 'char_wb'],\n",
    "#           'countvectorizer__min_df': [1, 2, 3],\n",
    "#           'normalizer': [None, Normalizer()],\n",
    "#          'logisticregression__C': [100, 10, 1, 0.1, 0.01]\n",
    "#        }\n",
    "\n",
    "#lr_grid = GridSearchCV(make_pipeline(CountVectorizer(stop_words='english'),\n",
    "#                                    Normalizer(), LogisticRegression()), \n",
    "#                       param_grid=lr_params, cv=5, scoring='f1_macro', n_jobs=8, verbose=2)\n",
    "\n",
    "#lr_grid.fit(comments_train, target_train)\n",
    "#print(lr_grid.best_score_)\n",
    "#print(lr_grid.best_params_)\n"
   ]
  },
  {
   "cell_type": "markdown",
   "metadata": {},
   "source": [
    "This section has been commented out to prevent Travis-CI from timing out\n",
    "------------------------------------------------------------------------\n",
    "\n",
    "Best score achieved through GridSearchCV with a random forest model:\n",
    "\n",
    "\n",
    "0.505797024798\n",
    "\n",
    "\n",
    "Best parameters:\n",
    "\n",
    "\n",
    "{'normalizer': None, 'n_estimators': 200, 'ngram_range': (5, 5), 'analyzer': 'char', 'min_df': 3}\n",
    "\n"
   ]
  },
  {
   "cell_type": "code",
   "execution_count": 184,
   "metadata": {
    "ExecuteTime": {
     "end_time": "2017-04-15T04:00:08.267608",
     "start_time": "2017-04-15T01:07:09.253409"
    },
    "collapsed": false,
    "scrolled": true
   },
   "outputs": [
    {
     "name": "stdout",
     "output_type": "stream",
     "text": [
      "Fitting 5 folds for each of 576 candidates, totalling 2880 fits\n"
     ]
    },
    {
     "name": "stderr",
     "output_type": "stream",
     "text": [
      "[Parallel(n_jobs=8)]: Done  16 tasks      | elapsed:   27.4s\n",
      "[Parallel(n_jobs=8)]: Done 112 tasks      | elapsed:  9.6min\n",
      "[Parallel(n_jobs=8)]: Done 272 tasks      | elapsed: 36.1min\n",
      "[Parallel(n_jobs=8)]: Done 496 tasks      | elapsed: 43.5min\n",
      "[Parallel(n_jobs=8)]: Done 784 tasks      | elapsed: 49.0min\n",
      "[Parallel(n_jobs=8)]: Done 1136 tasks      | elapsed: 66.6min\n",
      "[Parallel(n_jobs=8)]: Done 1552 tasks      | elapsed: 107.0min\n",
      "[Parallel(n_jobs=8)]: Done 2032 tasks      | elapsed: 133.7min\n",
      "[Parallel(n_jobs=8)]: Done 2576 tasks      | elapsed: 160.3min\n",
      "[Parallel(n_jobs=8)]: Done 2880 out of 2880 | elapsed: 172.5min finished\n"
     ]
    },
    {
     "name": "stdout",
     "output_type": "stream",
     "text": [
      "0.505797024798\n",
      "{'normalizer': None, 'randomforestclassifier__n_estimators': 200, 'countvectorizer__ngram_range': (5, 5), 'countvectorizer__analyzer': 'char', 'countvectorizer__min_df': 3}\n"
     ]
    }
   ],
   "source": [
    "#Grid search using a random forest model to find the best model parameters\n",
    "\n",
    "\n",
    "#rf_params = {'countvectorizer__ngram_range': [(1, 1), (1, 2), (1, 5), (1, 7),\n",
    "#                                (2, 3), (2, 5), (3, 8), (5, 5)],\n",
    "#             'countvectorizer__analyzer': ['word', 'char', 'char_wb'],\n",
    "#           'countvectorizer__min_df': [1, 2, 3],\n",
    "#           'normalizer': [None, Normalizer()],\n",
    "#             'randomforestclassifier__n_estimators': [50, 100, 150, 200],\n",
    "#        }\n",
    "\n",
    "#rf_grid = GridSearchCV(make_pipeline(CountVectorizer(stop_words='english'),\n",
    "#                                    Normalizer(), RandomForestClassifier()),\n",
    "#                      param_grid=rf_params, cv=5, scoring='f1_macro', n_jobs=8, verbose=3)\n",
    "\n",
    "#rf_grid.fit(comments_train, target_train)\n",
    "#print(rf_grid.best_score_)\n",
    "#print(rf_grid.best_params_)\n"
   ]
  },
  {
   "cell_type": "code",
   "execution_count": null,
   "metadata": {
    "ExecuteTime": {
     "start_time": "2017-04-15T17:54:30.982Z"
    },
    "collapsed": false,
    "scrolled": false
   },
   "outputs": [],
   "source": [
    "#from sklearn.svm import SVC\n",
    "\n",
    "#sv_params = {'countvectorizer__ngram_range': [(1, 1), (1, 2), (1, 5), (1, 7),\n",
    "#                                (2, 3), (2, 5), (3, 8), (5, 5)],\n",
    "#             'countvectorizer__analyzer': ['word', 'char', 'char_wb'],\n",
    "#           'countvectorizer__min_df': [1, 2, 3],\n",
    "#           'normalizer': [None, Normalizer()],\n",
    "#          'svc__C': [100, 10, 1, 0.1, 0.01]\n",
    "#        }\n",
    "\n",
    "#sv_grid = GridSearchCV(make_pipeline(CountVectorizer(stop_words='english'),\n",
    "#                                     Normalizer(), SVC()),\n",
    "#                                    param_grid=sv_params, cv=5, scoring='f1_macro', verbose=2)\n",
    "\n",
    "#sv_grid.fit(comments_train, target_train)\n",
    "#print(sv_grid.best_score_)\n",
    "#print(sv_grid.best_params_)\n"
   ]
  },
  {
   "cell_type": "markdown",
   "metadata": {},
   "source": [
    "# Task4 - Visualize Results [10 points]"
   ]
  },
  {
   "cell_type": "markdown",
   "metadata": {},
   "source": [
    "Visualize results of the tuned model (classification results, confusion matrix, important features, example mistakes)."
   ]
  },
  {
   "cell_type": "code",
   "execution_count": 4,
   "metadata": {
    "collapsed": true
   },
   "outputs": [],
   "source": [
    "# Add your code for task 4 here. You may use multiple cells. \n",
    "\n"
   ]
  },
  {
   "cell_type": "markdown",
   "metadata": {},
   "source": [
    "# Task5 - Clustering [10 points]"
   ]
  },
  {
   "cell_type": "markdown",
   "metadata": {},
   "source": [
    "Apply LDA, NMF and K-Means to the whole dataset. Can you find clusters or topics that match well with some of the ground truth labels? Use ARI to compare the methods and visualize topics and clusters."
   ]
  },
  {
   "cell_type": "code",
   "execution_count": 5,
   "metadata": {
    "collapsed": true
   },
   "outputs": [],
   "source": [
    "# Add your code for task 5 here. You may use multiple cells. \n",
    "\n"
   ]
  },
  {
   "cell_type": "markdown",
   "metadata": {},
   "source": [
    "# Task6 - Model 3 [30 points]"
   ]
  },
  {
   "cell_type": "markdown",
   "metadata": {},
   "source": [
    "Improve the class definition for REQUESTTYPE by using the results of the clustering and results of the previous classification model. Re-assign labels using either the results of clustering or using keywords that you found during data exploration. The labels must be semantically meaningful.\n",
    "The data has a large “other” category. Apply the topic modeling and clustering techniques to this subset of the data to find possible splits of this class.\n",
    "Report accuracy using macro average f1 score (should be above .53) \n"
   ]
  },
  {
   "cell_type": "code",
   "execution_count": 6,
   "metadata": {
    "collapsed": true
   },
   "outputs": [],
   "source": [
    "# Add your code for task 6 here. You may use multiple cells. \n",
    "\n"
   ]
  },
  {
   "cell_type": "markdown",
   "metadata": {},
   "source": [
    "# Extra Credit [Up to +20 points]"
   ]
  },
  {
   "cell_type": "markdown",
   "metadata": {},
   "source": [
    "Use a word embedding representation like word2vec for step 3 and or step 6. "
   ]
  },
  {
   "cell_type": "code",
   "execution_count": 7,
   "metadata": {
    "collapsed": true
   },
   "outputs": [],
   "source": [
    "# Add your code for extra credit here. You may use multiple cells. \n",
    "\n"
   ]
  }
 ],
 "metadata": {
  "anaconda-cloud": {},
  "kernelspec": {
   "display_name": "Python [default]",
   "language": "python",
   "name": "python3"
  },
  "language_info": {
   "codemirror_mode": {
    "name": "ipython",
    "version": 3
   },
   "file_extension": ".py",
   "mimetype": "text/x-python",
   "name": "python",
   "nbconvert_exporter": "python",
   "pygments_lexer": "ipython3",
   "version": "3.5.2"
  }
 },
 "nbformat": 4,
 "nbformat_minor": 1
}
